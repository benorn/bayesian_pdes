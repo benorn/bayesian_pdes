{
 "cells": [
  {
   "cell_type": "code",
   "execution_count": 1,
   "metadata": {
    "collapsed": false
   },
   "outputs": [],
   "source": [
    "import logging\n",
    "logger = logging.getLogger()\n",
    "for handler in logger.handlers:\n",
    "    handler.level = logging.WARNING\n",
    "handler = logging.FileHandler(filename='crime.log', mode='w')\n",
    "handler.level = logging.DEBUG\n",
    "logger.level = logging.DEBUG\n",
    "logger.addHandler(handler)"
   ]
  },
  {
   "cell_type": "code",
   "execution_count": 2,
   "metadata": {
    "collapsed": false
   },
   "outputs": [],
   "source": [
    "%matplotlib inline\n",
    "from autograd import numpy as np\n",
    "import autograd\n",
    "import bayesian_pdes as bpdes\n",
    "import sympy as sp\n",
    "import matplotlib.pyplot as plt\n",
    "import sympy_rbf as rbf"
   ]
  },
  {
   "cell_type": "code",
   "execution_count": 3,
   "metadata": {
    "collapsed": true
   },
   "outputs": [],
   "source": [
    "omega = 1./15\n",
    "eta = 0.03\n",
    "Theta = 0.056\n",
    "Gamma = 0.19\n",
    "A_0 = 1./300\n",
    "l = 1.\n",
    "dt = 0.05\n",
    "D = l**2 / (2*dt)"
   ]
  },
  {
   "cell_type": "code",
   "execution_count": 4,
   "metadata": {
    "collapsed": true
   },
   "outputs": [],
   "source": [
    "x, y = sp.symbols('x,y')\n",
    "t, tbar = sp.symbols('t,tbar')\n",
    "\n",
    "def op_A(k):\n",
    "    return k.diff(t) - eta*D*k.diff(x, x) + omega*(k - A_0)\n",
    "def op_A_bar(k):\n",
    "    return k.diff(tbar) - eta*D*k.diff(y, y) + omega*(k - A_0)\n",
    "\n",
    "#also want first and second derivs wrt x, y\n",
    "def A_x(k): return k.diff(x)\n",
    "def A_xx(k): return k.diff(x, x)\n",
    "def A_y(k): return k.diff(y)\n",
    "def A_yy(k): return k.diff(y,y)\n",
    "\n",
    "sA, sA_x, sA_xx = sp.symbols('A,A_x, A_xx')\n",
    "sA_bar, sA_x_bar, sA_xx_bar = sp.symbols('A_bar, A_x_bar, A_xx_bar')\n",
    "\n",
    "def op_rho(k):\n",
    "    return k.diff(t) - D * (k.diff(x, x) - 2*k.diff(x) * sA_x/sA - 2*k*(sA_xx/sA - (sA_x/sA)**2)) + k*sA - eta\n",
    "\n",
    "def op_rho_bar(k):\n",
    "    return k.diff(tbar) \\\n",
    "        - D * ( \\\n",
    "                k.diff(y, y) - 2*k.diff(y) * sA_x_bar/sA_bar - 2*k*(sA_xx_bar/sA_bar - (sA_x_bar/sA_bar)**2) \\\n",
    "              ) + k*sA_bar - eta\n",
    "\n",
    "ls_x, ls_t = sp.symbols('ls_x, ls_t')\n",
    "k = sp.exp(-(x-y)**2 / (2*ls_x**2))*(sp.exp(-(t-tbar)**2 / (2*ls_t**2)))\n",
    "periodic_spatial = rbf.PeriodicKern.create([x], [y], ls_x, 1.0)\n",
    "k_per = periodic_spatial * sp.exp(-(t-tbar)**2 / (2*ls_t**2))\n",
    "\n",
    "\n",
    "kern = k"
   ]
  },
  {
   "cell_type": "code",
   "execution_count": 5,
   "metadata": {
    "collapsed": false
   },
   "outputs": [],
   "source": [
    "op_system_A = bpdes.operator_compilation.compile_sympy(\n",
    "    [op_A, A_x, A_xx], \n",
    "    [op_A_bar, A_y, A_yy], \n",
    "    kern, \n",
    "    [[x, t], [y, tbar], [ls_x, ls_t]], \n",
    "    mode='cython',\n",
    "    sympy_function_kwargs={\n",
    "        'compile_helpers': [periodic_spatial.get_helper()]\n",
    "    }\n",
    ")"
   ]
  },
  {
   "cell_type": "code",
   "execution_count": 6,
   "metadata": {
    "collapsed": false
   },
   "outputs": [],
   "source": [
    "op_system_rho = bpdes.operator_compilation.compile_sympy(\n",
    "    [op_rho],\n",
    "    [op_rho_bar],\n",
    "    kern,\n",
    "    [[x, t, sA, sA_x, sA_xx], [y, tbar, sA_bar, sA_x_bar, sA_xx_bar], [ls_x, ls_t]],\n",
    "    mode='cython',\n",
    "    sympy_function_kwargs={\n",
    "        'compile_helpers': [periodic_spatial.get_helper()]\n",
    "    }\n",
    ")"
   ]
  },
  {
   "cell_type": "code",
   "execution_count": 7,
   "metadata": {
    "collapsed": true
   },
   "outputs": [],
   "source": [
    "fun_args = np.array([0.1, 0.1])"
   ]
  },
  {
   "cell_type": "code",
   "execution_count": 8,
   "metadata": {
    "collapsed": false
   },
   "outputs": [],
   "source": [
    "times = np.arange(0,2,dt)\n",
    "design_points = np.linspace(0,1,11)[:,None]\n",
    "test_points = np.linspace(0,1,51)[:,None]\n",
    "\n",
    "def obs_function(t):\n",
    "    design = bpdes.parabolic.augment_with_time(design_points, t)\n",
    "    values = np.zeros((design.shape[0], 1))\n",
    "    return [(design, values)]\n",
    "\n",
    "def test_function(t):\n",
    "    return bpdes.parabolic.augment_with_time(test_points, t)\n",
    "\n",
    "A_t0 = A_0 + Theta*D*eta/omega\n",
    "\n",
    "initial_points = bpdes.parabolic.augment_with_time(design_points, 0)\n",
    "init_A = A_t0 * np.ones((initial_points.shape[0], 1))\n",
    "\n",
    "ics = [(initial_points, init_A)]\n",
    "\n",
    "posteriors = bpdes.parabolic.solve_parabolic(op_system_A, [op_A], [op_A_bar], times, obs_function, ics, fun_args)"
   ]
  },
  {
   "cell_type": "code",
   "execution_count": 9,
   "metadata": {
    "collapsed": false
   },
   "outputs": [
    {
     "data": {
      "text/plain": [
       "<matplotlib.legend.Legend at 0x1056cf0d0>"
      ]
     },
     "execution_count": 9,
     "metadata": {},
     "output_type": "execute_result"
    },
    {
     "data": {
      "image/png": "[encoded data removed]",
      "text/plain": [
       "<matplotlib.figure.Figure at 0x107963090>"
      ]
     },
     "metadata": {},
     "output_type": "display_data"
    }
   ],
   "source": [
    "p_ix = 4\n",
    "p = posteriors[p_ix]\n",
    "pts = test_function(times[p_ix])\n",
    "mu, cov = p.apply_operator([(), A_x, A_xx], [(), A_y, A_yy])(pts)\n",
    "for i in range(3):\n",
    "    plt.plot(pts[:,0], mu[i*len(pts):(i+1)*len(pts)], label='D{}'.format(i))\n",
    "for item in design_points:\n",
    "    plt.axvline(item, linestyle='--', c='black')\n",
    "plt.legend()"
   ]
  },
  {
   "cell_type": "code",
   "execution_count": 10,
   "metadata": {
    "collapsed": false
   },
   "outputs": [],
   "source": [
    "mu = []\n",
    "cov = []\n",
    "for t, posterior in zip(times, posteriors):\n",
    "    test_t = test_function(t)\n",
    "    mu_t, cov_t = posterior(test_t)\n",
    "    mu.append(mu_t)"
   ]
  },
  {
   "cell_type": "code",
   "execution_count": 11,
   "metadata": {
    "collapsed": false
   },
   "outputs": [
    {
     "data": {
      "image/png": "[encoded data removed]",
      "text/plain": [
       "<matplotlib.figure.Figure at 0x107759290>"
      ]
     },
     "metadata": {},
     "output_type": "display_data"
    }
   ],
   "source": [
    "plt.plot(test_points, mu[4]);"
   ]
  },
  {
   "cell_type": "code",
   "execution_count": 12,
   "metadata": {
    "collapsed": false,
    "scrolled": true
   },
   "outputs": [
    {
     "data": {
      "image/png": "[encoded data removed]",
      "text/plain": [
       "<matplotlib.figure.Figure at 0x10860f150>"
      ]
     },
     "metadata": {},
     "output_type": "display_data"
    }
   ],
   "source": [
    "plt.plot(test_points, np.column_stack(mu));"
   ]
  },
  {
   "cell_type": "markdown",
   "metadata": {},
   "source": [
    "# Now rho"
   ]
  },
  {
   "cell_type": "code",
   "execution_count": 13,
   "metadata": {
    "collapsed": false
   },
   "outputs": [],
   "source": [
    "Identity = ()\n",
    "def make_rho_locs(t, A, A_x, A_xx):\n",
    "    locs = bpdes.parabolic.augment_with_time(design_points, t)\n",
    "    locs = np.column_stack([locs, A, A_x, A_xx])\n",
    "    return locs\n",
    "def make_rho_obs(t, A, A_x, A_xx):\n",
    "    locations = make_rho_locs(t, A, A_x, A_xx)\n",
    "    return [(locations, np.zeros((locations.shape[0], 1)))]\n",
    "\n",
    "rho_t0 = 1./l**2\n",
    "rho_loc_0 = make_rho_locs(times[0], init_A, np.zeros_like(init_A), np.zeros_like(init_A))\n",
    "init_rho = rho_t0*np.ones((rho_loc_0.shape[0], 1))\n",
    "rho_obs_0 = [(rho_loc_0, init_rho)]\n",
    "rho_posterior_t0 = bpdes.collocation.collocate([Identity], [Identity], rho_obs_0, op_system_rho, fun_args)"
   ]
  },
  {
   "cell_type": "code",
   "execution_count": 14,
   "metadata": {
    "collapsed": false
   },
   "outputs": [],
   "source": [
    "A_posterior_t1 = posteriors[1].apply_operator([Identity, A_x, A_xx], [Identity, A_y, A_yy])\n",
    "samp = A_posterior_t1.sample(obs_function(times[1])[0][0]).T\n",
    "A_samp, A_x_samp, A_xx_samp = samp[:len(samp)/3], samp[len(samp)/3:2*len(samp)/3], samp[2*len(samp)/3:]"
   ]
  },
  {
   "cell_type": "code",
   "execution_count": 15,
   "metadata": {
    "collapsed": false
   },
   "outputs": [],
   "source": [
    "all_rho_ops = [[Identity], [op_rho]] + [[op_rho]]\n",
    "all_rho_ops_bar = [[Identity], [op_rho_bar]]\n",
    "all_rho_obs = [rho_obs_0, make_rho_obs(times[1], A_samp, A_x_samp, A_xx_samp)]\n",
    "rho_posterior_t1 = bpdes.parabolic.step_forward(all_rho_ops, all_rho_ops_bar, all_rho_obs, op_system_rho, fun_args, rho_posterior_t0)"
   ]
  },
  {
   "cell_type": "code",
   "execution_count": 16,
   "metadata": {
    "collapsed": false
   },
   "outputs": [
    {
     "data": {
      "text/plain": [
       "<bayesian_pdes.collocation.CollocationPosterior at 0x108b1e0d0>"
      ]
     },
     "execution_count": 16,
     "metadata": {},
     "output_type": "execute_result"
    }
   ],
   "source": [
    "rho_posterior_t1"
   ]
  },
  {
   "cell_type": "markdown",
   "metadata": {},
   "source": [
    "# try autograd"
   ]
  },
  {
   "cell_type": "code",
   "execution_count": null,
   "metadata": {
    "collapsed": true
   },
   "outputs": [],
   "source": [
    "from bayesian_pdes.operator_compilation.autograd import AutogradOperatorSystem"
   ]
  },
  {
   "cell_type": "code",
   "execution_count": null,
   "metadata": {
    "collapsed": true
   },
   "outputs": [],
   "source": [
    "def sqexp(x,t,y,tbar,args):\n",
    "    return np.exp(-((x-y)*(x-y)) / (2*args[0]**2)) * np.exp(-(t-tbar)*(t-tbar) / (2*args[1]**2))"
   ]
  },
  {
   "cell_type": "code",
   "execution_count": null,
   "metadata": {
    "collapsed": false
   },
   "outputs": [],
   "source": [
    "def op_A(k):\n",
    "    grad_k_x = autograd.grad(k)\n",
    "    grad_k_xx = autograd.grad(grad_k_x)\n",
    "    grad_k_t = autograd.grad(k,1)\n",
    "    \n",
    "    def __ret__(x, t, y, tbar, args):\n",
    "        return grad_k_t(x, t, y, tbar, args) - eta*D*grad_k_xx(x, t, y, tbar, args) + omega*(k(x,t,y,tbar,args) - A_0)\n",
    "    return __ret__\n",
    "def op_A_bar(k):\n",
    "    grad_k_x = autograd.grad(k,2)\n",
    "    grad_k_xx = autograd.grad(grad_k_x,2)\n",
    "    grad_k_t = autograd.grad(k,3)\n",
    "    \n",
    "    def __ret__(x, t, y, tbar, args):\n",
    "        return grad_k_t(x, t, y, tbar, args) - eta*D*grad_k_xx(x, t, y, tbar, args) + omega*(k(x,t,y,tbar,args) - A_0)\n",
    "    return __ret__"
   ]
  },
  {
   "cell_type": "code",
   "execution_count": null,
   "metadata": {
    "collapsed": true
   },
   "outputs": [],
   "source": [
    "def wrapper(fun):\n",
    "    def __ret__(x, y, args):\n",
    "        t = x[1]\n",
    "        tbar = y[1]\n",
    "        x = x[0]\n",
    "        y = y[0]\n",
    "        return fun(x, t, y, tbar, args)\n",
    "    \n",
    "    return __ret__"
   ]
  },
  {
   "cell_type": "code",
   "execution_count": null,
   "metadata": {
    "collapsed": false
   },
   "outputs": [],
   "source": [
    "op_system = AutogradOperatorSystem([op_A], [op_A_bar], sqexp, wrapper)"
   ]
  },
  {
   "cell_type": "code",
   "execution_count": null,
   "metadata": {
    "collapsed": false
   },
   "outputs": [],
   "source": [
    "times = np.arange(0, 1, dt)[1:]\n",
    "space_points = np.linspace(0,1,11)[:,None]\n",
    "\n",
    "t = times[0]*np.ones_like(space_points)\n",
    "\n",
    "design_points = np.column_stack([space_points, t])"
   ]
  },
  {
   "cell_type": "code",
   "execution_count": null,
   "metadata": {
    "collapsed": false
   },
   "outputs": [],
   "source": [
    "LLbar = op_system[(op_A, op_A_bar)]\n",
    "llbar = LLbar(design_points, design_points, np.array([0.5, 0.5]))\n",
    "llbar_inv = np.linalg.inv(llbar)"
   ]
  },
  {
   "cell_type": "code",
   "execution_count": null,
   "metadata": {
    "collapsed": false
   },
   "outputs": [],
   "source": [
    "def new_kern(x, t, y, tbar, args):\n",
    "    left_arr = []\n",
    "    right_arr = []\n",
    "    left = op_system.get_raw((op_A_bar,))\n",
    "    right = op_system.get_raw((op_A,))\n",
    "    for i in range(design_points.shape[0]):\n",
    "        left_arr.append(left(x, t, design_points[i, 0], design_points[i, 1], args))\n",
    "        right_arr.append(right(design_points[i, 0], design_points[i, 1], y, tbar, args))\n",
    "    left = np.array([left_arr])\n",
    "    right = np.array([right_arr])\n",
    "    kern = op_system.get_raw(())(x, t, y, tbar, args)\n",
    "    return kern - np.dot(np.dot(left, llbar_inv), right.T)"
   ]
  },
  {
   "cell_type": "code",
   "execution_count": null,
   "metadata": {
    "collapsed": true
   },
   "outputs": [],
   "source": [
    "new_op_system = AutogradOperatorSystem([op_A], [op_A_bar], new_kern, wrapper)"
   ]
  },
  {
   "cell_type": "code",
   "execution_count": null,
   "metadata": {
    "collapsed": true
   },
   "outputs": [],
   "source": [
    "t2 = times[1]*np.ones_like(space_points)\n",
    "\n",
    "design_points_2 = np.column_stack([space_points, t2])"
   ]
  },
  {
   "cell_type": "code",
   "execution_count": null,
   "metadata": {
    "collapsed": false
   },
   "outputs": [],
   "source": [
    "test = op_system.get_raw((op_A, op_A_bar))\n",
    "test_new = new_op_system.get_raw((op_A, op_A_bar))"
   ]
  },
  {
   "cell_type": "code",
   "execution_count": null,
   "metadata": {
    "collapsed": false,
    "scrolled": true
   },
   "outputs": [],
   "source": [
    "%%timeit\n",
    "test(design_points_2[0,0], design_points_2[0,1], design_points_2[0,0], design_points_2[0,1], np.array([0.5, 0.5]))"
   ]
  },
  {
   "cell_type": "code",
   "execution_count": null,
   "metadata": {
    "collapsed": false
   },
   "outputs": [],
   "source": [
    "%lprun -f new_kern test_new(design_points_2[0,0], design_points_2[0,1], design_points_2[0,0], design_points_2[0,1], np.array([0.5, 0.5]))"
   ]
  },
  {
   "cell_type": "code",
   "execution_count": null,
   "metadata": {
    "collapsed": false
   },
   "outputs": [],
   "source": [
    "LLbar = new_op_system[(op_A, op_A_bar)]\n",
    "llbar_2 = LLbar(design_points_2, design_points_2, np.array([0.5, 0.5]))\n",
    "llbar_inv_2 = np.linalg.inv(llbar_2)"
   ]
  },
  {
   "cell_type": "code",
   "execution_count": null,
   "metadata": {
    "collapsed": false,
    "scrolled": true
   },
   "outputs": [],
   "source": [
    "llbar_2"
   ]
  },
  {
   "cell_type": "code",
   "execution_count": null,
   "metadata": {
    "collapsed": true
   },
   "outputs": [],
   "source": [
    "import theano as th\n",
    "import theano.tensor as tt"
   ]
  },
  {
   "cell_type": "code",
   "execution_count": null,
   "metadata": {
    "collapsed": false
   },
   "outputs": [],
   "source": [
    "x_vec, y_vec = tt.dvectors(['x', 'y'])\n",
    "sigma = tt.scalar('sigma')\n",
    "gaussian_kernel = tt.exp(-tt.sum(tt.square(x_vec - y_vec)) / (2*sigma**2))\n",
    "\n",
    "def divergence(f, wrt):\n",
    "    grad2, _ = th.scan(fn=lambda i, x, f: tt.grad(f[i], x)[i], sequences=tt.arange(wrt.shape[0]), non_sequences=[wrt, f])\n",
    "    return tt.sum(grad2)\n",
    "\n",
    "def laplacian(f, wrt):\n",
    "    return tt.sum(tt.diagonal(tt.hessian(f, wrt)))\n",
    "\n",
    "def A(k):\n",
    "    return laplacian(k, x_vec)\n",
    "\n",
    "def A_bar(k):\n",
    "    return laplacian(k, y_vec)\n",
    "\n",
    "def B(k):\n",
    "    return k\n",
    "\n",
    "B_bar = B\n",
    "\n",
    "def calc_kernel(x, y, old_kernel, ops, ops_bar, obs):\n",
    "    llbar = build_llbar(old_kernel, ops, ops_bar, obs)\n",
    "    l, lbar = calc_side_matrices(old_kernel, ops, ops_bar, obs, x, y)\n",
    "    llbar_inv = tt.inv(llbar)\n",
    "    \n",
    "    return old_kernel - tt.dot(lbar, tt.dot(llbar_inv, l))\n",
    "\n",
    "def build_llbar(kern, ops, ops_bar, obs):\n",
    "    row_list = []\n",
    "    for op, pt in zip(ops, obs):\n",
    "        col_list = []\n",
    "        for op_bar, pt_bar in zip(ops_bar, obs):\n",
    "            applied = op_bar(op(kern))\n",
    "            diffed_kern = gram_matrix(pt, pt_bar, applied)\n",
    "            col_list.append(diffed_kern)\n",
    "        row_list.append(tt.concatenate(col_list, axis=1))\n",
    "    return tt.concatenate(row_list)\n",
    "\n",
    "def calc_side_matrices(kern, ops, ops_bar, obs, X, Y):\n",
    "    L = []\n",
    "    Lbar = []\n",
    "    for op, op_bar, point in zip(ops, ops_bar, obs):\n",
    "        # this actually just needs to be *half* a gram_matrix\n",
    "        f = tt.transpose(half_gram_matrix(Y, point, op(kern)))\n",
    "        fbar = half_gram_matrix(X, point, op_bar(kern))\n",
    "        L.append(f)\n",
    "        Lbar.append(fbar)\n",
    "    L = tt.concatenate(L)\n",
    "    Lbar = tt.concatenate(Lbar, axis=1)\n",
    "    return L, Lbar\n",
    "    \n",
    "def half_gram_matrix(x, Y, kernel):\n",
    "    N = Y.shape[0]\n",
    "    \n",
    "    def kernel_subs(y_replace):\n",
    "        return th.clone(kernel, {y_vec:y_replace})\n",
    "    \n",
    "    R, _ = th.scan(\n",
    "        fn=lambda k: kernel_subs(Y[k % N]),\n",
    "        sequences=[tt.arange(N)])\n",
    "    \n",
    "    return R.reshape([1, N])\n",
    "                        \n",
    "def gram_matrix(X, Y, kernel):\n",
    "    M = X.shape[0]\n",
    "    N = Y.shape[0]\n",
    "    \n",
    "    def kernel_subs(x_replace, y_replace):\n",
    "        return th.clone(kernel, {x_vec:x_replace, y_vec:y_replace})\n",
    "    \n",
    "    R, _ = th.scan(\n",
    "        fn=lambda k: kernel_subs(X[k // N], Y[k % N]),\n",
    "        sequences=[tt.arange(M * N)])\n",
    "\n",
    "    return R.reshape([M, N])\n",
    "\n",
    "X = tt.dmatrix('X')\n",
    "Y = tt.dmatrix('Y')\n",
    "K = gram_matrix(X, Y, gaussian_kernel)\n",
    "\n",
    "f = th.function([X, Y, sigma], [K])"
   ]
  },
  {
   "cell_type": "code",
   "execution_count": null,
   "metadata": {
    "collapsed": false
   },
   "outputs": [],
   "source": [
    "tmp = laplacian(gaussian_kernel, x_vec)"
   ]
  },
  {
   "cell_type": "code",
   "execution_count": null,
   "metadata": {
    "collapsed": true
   },
   "outputs": [],
   "source": [
    "%load_ext line_profiler"
   ]
  },
  {
   "cell_type": "code",
   "execution_count": null,
   "metadata": {
    "collapsed": false
   },
   "outputs": [],
   "source": [
    "%lprun -f tt.hessian laplacian(tmp, y_vec)"
   ]
  },
  {
   "cell_type": "code",
   "execution_count": null,
   "metadata": {
    "collapsed": false
   },
   "outputs": [],
   "source": [
    "x,y = sp.symbols('x,y')\n",
    "k_sp = sp.exp(-(x-y)**2 / (2*0.1**2))\n",
    "A_sp = lambda k: k.diff(x,x)\n",
    "A_bar_sp = lambda k: k.diff(y,y)\n",
    "B_sp = lambda k: k\n",
    "B_bar_sp = B_sp\n",
    "oc = bpdes.operator_compilation.compile_sympy([A_sp, B_sp], [A_bar_sp, B_bar_sp], k_sp, [[x], [y]], mode='cython')"
   ]
  },
  {
   "cell_type": "code",
   "execution_count": null,
   "metadata": {
    "collapsed": false
   },
   "outputs": [],
   "source": [
    "sympy_llbar = bpdes.collocation.calc_LLbar([A_sp, B_sp], [A_bar_sp, B_bar_sp], [(interior, None), (bdy,None)], oc)"
   ]
  },
  {
   "cell_type": "code",
   "execution_count": null,
   "metadata": {
    "collapsed": false
   },
   "outputs": [],
   "source": [
    "obs_A = tt.dmatrix('O_A')\n",
    "obs_B = tt.dmatrix('O_B')\n",
    "new_kernel = calc_kernel(x_vec, y_vec, gaussian_kernel, [A, B], [A_bar, B_bar], [obs_A, obs_B])"
   ]
  },
  {
   "cell_type": "code",
   "execution_count": null,
   "metadata": {
    "collapsed": false
   },
   "outputs": [],
   "source": [
    "llbar_fun = th.function([obs_A, obs_B, sigma], build_llbar(gaussian_kernel, [A, B], [A_bar, B_bar], [obs_A, obs_B]))"
   ]
  },
  {
   "cell_type": "code",
   "execution_count": null,
   "metadata": {
    "collapsed": true
   },
   "outputs": [],
   "source": [
    "import numpy.testing"
   ]
  },
  {
   "cell_type": "code",
   "execution_count": null,
   "metadata": {
    "collapsed": false
   },
   "outputs": [],
   "source": [
    "gm = gram_matrix(X, Y, new_kernel)"
   ]
  },
  {
   "cell_type": "code",
   "execution_count": null,
   "metadata": {
    "collapsed": false
   },
   "outputs": [],
   "source": [
    "f = th.function([X, Y, obs_A, obs_B, sigma], [gm])"
   ]
  },
  {
   "cell_type": "code",
   "execution_count": null,
   "metadata": {
    "collapsed": false
   },
   "outputs": [],
   "source": [
    "f(test, test, interior, bdy, 0.1)"
   ]
  },
  {
   "cell_type": "code",
   "execution_count": null,
   "metadata": {
    "collapsed": false
   },
   "outputs": [],
   "source": [
    "test = np.linspace(0,1,101)[:,None]\n",
    "design = np.linspace(0,1,11)[:,None]\n",
    "interior = design[1:-1]\n",
    "bdy = design[[0,-1]]\n",
    "cov = f(test,test, interior, bdy)"
   ]
  },
  {
   "cell_type": "code",
   "execution_count": null,
   "metadata": {
    "collapsed": false
   },
   "outputs": [],
   "source": [
    "plt.matshow(cov[0]); plt.colorbar()"
   ]
  },
  {
   "cell_type": "code",
   "execution_count": null,
   "metadata": {
    "collapsed": false
   },
   "outputs": [],
   "source": [
    "gm = gram_matrix(X, Y, lambda X, Y: tt.jacobian(gaussian_kernel(X, Y), X))"
   ]
  },
  {
   "cell_type": "code",
   "execution_count": null,
   "metadata": {
    "collapsed": false
   },
   "outputs": [],
   "source": [
    "f = th.function([X, Y], [gm])"
   ]
  },
  {
   "cell_type": "code",
   "execution_count": null,
   "metadata": {
    "collapsed": false
   },
   "outputs": [],
   "source": [
    "f(x,x)"
   ]
  },
  {
   "cell_type": "code",
   "execution_count": null,
   "metadata": {
    "collapsed": true
   },
   "outputs": [],
   "source": [
    "x = np.random.normal(size=(100,1))"
   ]
  },
  {
   "cell_type": "code",
   "execution_count": null,
   "metadata": {
    "collapsed": false
   },
   "outputs": [],
   "source": [
    "f(x,x)"
   ]
  }
 ],
 "metadata": {
  "kernelspec": {
   "display_name": "Python 2",
   "language": "python",
   "name": "python2"
  },
  "language_info": {
   "codemirror_mode": {
    "name": "ipython",
    "version": 2
   },
   "file_extension": ".py",
   "mimetype": "text/x-python",
   "name": "python",
   "nbconvert_exporter": "python",
   "pygments_lexer": "ipython2",
   "version": "2.7.11"
  }
 },
 "nbformat": 4,
 "nbformat_minor": 0
}
