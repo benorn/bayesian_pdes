{
 "cells": [
  {
   "cell_type": "code",
   "execution_count": 1,
   "metadata": {
    "collapsed": false
   },
   "outputs": [],
   "source": [
    "%matplotlib inline\n",
    "import matplotlib.pyplot as plt\n",
    "import matplotlib.tri as tri\n",
    "from mpl_toolkits.mplot3d import Axes3D\n",
    "import numpy as np\n",
    "import sympy as sp\n",
    "sp.init_printing()\n",
    "import bayesian_pdes as bpdes\n",
    "import matplotlib\n",
    "from mcmc import pcn\n",
    "%load_ext mcmc\n",
    "%mcmc notebook\n",
    "from scipy import stats\n",
    "#import gpanim\n",
    "#matplotlib.rc('text', usetex=True)\n",
    "#matplotlib.rcParams['text.latex.unicode'] = True"
   ]
  },
  {
   "cell_type": "code",
   "execution_count": 2,
   "metadata": {
    "collapsed": true
   },
   "outputs": [],
   "source": [
    "class NamedLambda(object):\n",
    "    def __init__(self, func, desc):\n",
    "        self.__func__ = func\n",
    "        self.__desc__ = desc\n",
    "    def __call__(self, *args):\n",
    "        return self.__func__(*args)\n",
    "    def __str__(self):\n",
    "        return '<NamedLambda: {}>'.format(self.__desc__)\n",
    "    def __repr__(self):\n",
    "        return '<NamedLambda: {}>'.format(self.__desc__)"
   ]
  },
  {
   "cell_type": "code",
   "execution_count": 3,
   "metadata": {
    "collapsed": false
   },
   "outputs": [],
   "source": [
    "seed = 124\n",
    "np.random.seed(seed)"
   ]
  },
  {
   "cell_type": "code",
   "execution_count": 4,
   "metadata": {
    "collapsed": true
   },
   "outputs": [],
   "source": [
    "x_1,x_2,y_1,y_2 = sp.symbols('x_1 x_2 y_1 y_2')"
   ]
  },
  {
   "cell_type": "code",
   "execution_count": 5,
   "metadata": {
    "collapsed": false
   },
   "outputs": [],
   "source": [
    "# load in observational data\n",
    "current_file = np.loadtxt('RPI_2d_chest_phantom_data/ssout1.dat')\n",
    "#voltage_file = np.loadtxt('RPI_2d_chest_phantom_data/ACT2000r.txt')\n",
    "#voltage_file = np.loadtxt('RPI_2d_chest_phantom_data/ACT2006r.txt') # empty tank\n",
    "voltage_file = np.loadtxt('sim_data/volatages.txt')\n",
    "\n",
    "\n",
    "experiments = []\n",
    "for i in range(len(current_file) / 32):\n",
    "    this_currents = current_file[32*i:32*(i+1)]\n",
    "    this_voltages = voltage_file[32*i+1:32*(i+1)+1]\n",
    "    experiments.append((this_currents.reshape((32,1)), this_voltages.reshape((32,1))))"
   ]
  },
  {
   "cell_type": "code",
   "execution_count": 6,
   "metadata": {
    "collapsed": false
   },
   "outputs": [],
   "source": [
    "length_scale = sp.Symbol('sigma')\n",
    "k_sqexp = sp.exp(-((x_1-y_1)**2 + (x_2-y_2)**2) / (2*length_scale**2))\n",
    "\n",
    "# Operators in the expanded version of the problem\n",
    "A_1 = NamedLambda(lambda k: k.diff(x_1), 'A_1')\n",
    "A_2 = NamedLambda(lambda k: k.diff(x_2), 'A_2')\n",
    "A_3 = NamedLambda(lambda k: k.diff(x_1, x_1) + k.diff(x_2, x_2), 'A_3')\n",
    "A_1_bar = NamedLambda(lambda k: k.diff(y_1), 'A_1_bar')\n",
    "A_2_bar = NamedLambda(lambda k: k.diff(y_2), 'A_2_bar')\n",
    "A_3_bar = NamedLambda(lambda k: k.diff(y_1, y_1) + k.diff(y_2, y_2), 'A_3_bar')\n",
    "\n",
    "# Transformed operators\n",
    "A_t = 'A_t'\n",
    "A_bar_t = 'A_bar_t'\n",
    "\n",
    "# Boundary operators\n",
    "B = NamedLambda(lambda k: (k.diff(x_1)*x_1 + k.diff(x_2)*x_2), 'B')\n",
    "B_bar = NamedLambda(lambda k: (k.diff(y_1)*y_1 + k.diff(y_2)*y_2), 'B_bar')\n",
    "\n",
    "# Transformed boundary operators\n",
    "B_t = 'B_t'\n",
    "B_bar_t = 'B_bar_t'\n",
    "\n",
    "ops = [A_t, B_t]\n",
    "ops_bar = [A_bar_t, B_bar_t]\n",
    "\n",
    "ops_base = [A_1, A_2, A_3, B]\n",
    "ops_bar_base = [A_1_bar, A_2_bar, A_3_bar, B_bar]\n",
    "op_cache_base = bpdes.operator_compilation.compile_sympy(ops_base, ops_bar_base, k_sqexp, [[x_1, x_2], [y_1, y_2], length_scale])"
   ]
  },
  {
   "cell_type": "code",
   "execution_count": 7,
   "metadata": {
    "collapsed": false
   },
   "outputs": [
    {
     "data": {
      "image/png": "[encoded data removed]",
      "text/plain": [
       "<matplotlib.figure.Figure at 0x114034550>"
      ]
     },
     "metadata": {},
     "output_type": "display_data"
    }
   ],
   "source": [
    "# there are 32 evenly spaced electrodes between 0 and 2\\pi\n",
    "# the electrodes go counter-clockwise from the +x axis and finish at x=1, y=0\n",
    "electrodes = np.linspace(0, 2*np.pi, 33)[1:-1]\n",
    "electrodes = np.append(electrodes,0)\n",
    "electrode_x = np.cos(electrodes)\n",
    "electrode_y = np.sin(electrodes)\n",
    "plt.figure(figsize=(3,3))\n",
    "plt.scatter(electrode_x, electrode_y)\n",
    "plt.xlim(-1.1,1.1); plt.ylim(-1.1,1.1);\n",
    "\n",
    "bdy = np.c_[electrode_x, electrode_y]"
   ]
  },
  {
   "cell_type": "code",
   "execution_count": 8,
   "metadata": {
    "collapsed": false
   },
   "outputs": [
    {
     "data": {
      "image/png": "[encoded data removed]",
      "text/plain": [
       "<matplotlib.figure.Figure at 0x11402b690>"
      ]
     },
     "metadata": {},
     "output_type": "display_data"
    }
   ],
   "source": [
    "# we also need a few interior points\n",
    "radii = np.linspace(0,1,11)[1:-1]\n",
    "r_spacing = radii[1] - radii[0]\n",
    "coords = [np.array([[0.,0.]])]\n",
    "for r in radii:\n",
    "    # we want the number of theta which \n",
    "    n_theta = np.round(2*np.pi*r / r_spacing)\n",
    "    thetas = np.linspace(0, 2*np.pi, n_theta+1)[:-1]\n",
    "    x = np.cos(thetas)\n",
    "    y = np.sin(thetas)\n",
    "    coords.append(r*np.c_[x,y])\n",
    "coords = np.concatenate(coords)\n",
    "\n",
    "plt.figure(figsize=(3,3))\n",
    "plt.scatter(coords[:,0], coords[:,1], s=1, linewidth=0)\n",
    "plt.xlim(-1.1,1.1); plt.ylim(-1.1,1.1);\n",
    "\n",
    "interior = coords"
   ]
  },
  {
   "cell_type": "code",
   "execution_count": 9,
   "metadata": {
    "collapsed": false,
    "scrolled": true
   },
   "outputs": [
    {
     "data": {
      "text/plain": [
       "<matplotlib.collections.PathCollection at 0x114493ed0>"
      ]
     },
     "execution_count": 9,
     "metadata": {},
     "output_type": "execute_result"
    },
    {
     "data": {
      "image/png": "[encoded data removed]",
      "text/plain": [
       "<matplotlib.figure.Figure at 0x11434f590>"
      ]
     },
     "metadata": {},
     "output_type": "display_data"
    }
   ],
   "source": [
    "plt.figure(figsize=(5,5))\n",
    "plt.xlim(-1.1,1.1); plt.ylim(-1.1,1.1);\n",
    "plt.scatter(bdy[:,0], bdy[:,1], marker='x', c='green')\n",
    "plt.scatter(interior[:,0], interior[:,1], linewidth=0, c='black', s=1)"
   ]
  },
  {
   "cell_type": "code",
   "execution_count": 10,
   "metadata": {
    "collapsed": false
   },
   "outputs": [],
   "source": [
    "obs = [(interior, None), (bdy, None)]\n",
    "interior_obs = np.zeros((interior.shape[0], 1))"
   ]
  },
  {
   "cell_type": "code",
   "execution_count": 11,
   "metadata": {
    "collapsed": true
   },
   "outputs": [],
   "source": [
    "field_pts = np.r_[interior, bdy]\n",
    "n_field = len(field_pts)\n",
    "def vec_to_kappas(vec):\n",
    "    return vec[:n_field, None], vec[n_field:2*n_field, None], vec[2*n_field:, None]"
   ]
  },
  {
   "cell_type": "code",
   "execution_count": 12,
   "metadata": {
    "collapsed": true
   },
   "outputs": [],
   "source": [
    "arg_caching = bpdes.operator_compilation.CachingOpCache(op_cache_base)"
   ]
  },
  {
   "cell_type": "code",
   "execution_count": 13,
   "metadata": {
    "collapsed": false
   },
   "outputs": [],
   "source": [
    "from __future__ import print_function\n",
    "class TransformedOpCache(object):\n",
    "    def __init__(self, op_cache, kappa, grad_kappa_x, grad_kappa_y, verbosity=0):\n",
    "        self.__op_cache__ = op_cache\n",
    "        self.__kappa__ = kappa\n",
    "        self.__grad_kappa_x__ = grad_kappa_x\n",
    "        self.__grad_kappa_y__ = grad_kappa_y\n",
    "        self.__verbosity__ = verbosity\n",
    "    \n",
    "    def __getitem__(self, item):\n",
    "        return do_transform(item, self.__op_cache__, self.__kappa__, self.__grad_kappa_x__, self.__grad_kappa_y__, self.__verbosity__)\n",
    "\n",
    "def do_transform(item, op_cache, kappa, grad_kappa_x, grad_kappa_y, verbosity):\n",
    "    def printer(*args):\n",
    "        if verbosity > 0:\n",
    "            print(*args)\n",
    "    exp_kappa = np.exp(kappa.reshape((len(kappa), 1)))\n",
    "    exp_kappa_int = exp_kappa[:len(interior),:]\n",
    "    exp_kappa_bdy = exp_kappa[len(interior):,:]\n",
    "    grad_kappa_x = grad_kappa_x[:len(interior)].reshape((len(interior),1))\n",
    "    grad_kappa_y = grad_kappa_y[:len(interior)].reshape((len(interior),1))\n",
    "    all_things = [()]\n",
    "    \n",
    "    # first explode out the objects required\n",
    "    for i in item:\n",
    "        if i == A_t:\n",
    "            all_things = sum([[a + (A_1,), a + (A_2,), a + (A_3,)] for a in all_things], [])\n",
    "        elif i == A_bar_t:\n",
    "            all_things = sum([[a + (A_1_bar,), a + (A_2_bar,), a + (A_3_bar,)] for a in all_things], [])\n",
    "        elif i == B_t:\n",
    "            all_things = [a + (B,) for a in all_things]\n",
    "        elif i == B_bar_t:\n",
    "            all_things = [a + (B_bar,) for a in all_things]\n",
    "        else:\n",
    "            all_things = [a + (i,) for a in all_things]\n",
    "    printer(all_things)\n",
    "\n",
    "    def __calc_result(x,y,fun_args=None):\n",
    "        if fun_args is None:\n",
    "            fun_args = []\n",
    "        result = 0\n",
    "        for item in all_things:\n",
    "            try:\n",
    "                function = op_cache[item]\n",
    "            except Exception as ex:\n",
    "                printer('Failed to get {}'.format(item))\n",
    "                raise ex\n",
    "            new_mat = function(x,y,fun_args)\n",
    "            if A_1 in item:\n",
    "                printer('A_1')\n",
    "                new_mat = np.repeat(grad_kappa_x*exp_kappa_int,y.shape[0],1) * new_mat\n",
    "            if A_2 in item:\n",
    "                printer('A_2')\n",
    "                new_mat = np.repeat(grad_kappa_y*exp_kappa_int,y.shape[0],1) * new_mat\n",
    "            elif A_3 in item:\n",
    "                printer('A_3')\n",
    "                new_mat = np.repeat(exp_kappa_int,y.shape[0],1) * new_mat\n",
    "            if A_1_bar in item:\n",
    "                printer('A_1_bar')\n",
    "                new_mat = np.repeat(grad_kappa_x.T*exp_kappa_int.T,x.shape[0],0) * new_mat\n",
    "            if A_2_bar in item:\n",
    "                printer('A_2_bar')\n",
    "                new_mat = np.repeat(grad_kappa_y.T*exp_kappa_int.T,x.shape[0],0) * new_mat\n",
    "            elif A_3_bar in item:\n",
    "                printer('A_3_bar')\n",
    "                new_mat = np.repeat(exp_kappa_int.T,x.shape[0],0) * new_mat\n",
    "            elif B in item:\n",
    "                new_mat = np.repeat(exp_kappa_bdy, y.shape[0], 1) * new_mat\n",
    "            elif B_bar in item:\n",
    "                new_mat = np.repeat(exp_kappa_bdy.T, x.shape[0], 0) * new_mat\n",
    "            result += new_mat\n",
    "        return result\n",
    "    return __calc_result"
   ]
  },
  {
   "cell_type": "code",
   "execution_count": 14,
   "metadata": {
    "collapsed": true
   },
   "outputs": [],
   "source": [
    "def plot_conductivity(thetas):\n",
    "    sig_expr = get_c(x_1, x_2).subs({t: v for t,v in zip(ts, thetas)})\n",
    "    sigma_field = sp.lambdify([x_1, x_2], sig_expr)\n",
    "    res = np.vectorize(sigma_field)(test_x, test_y)\n",
    "    plot_circle(test_x, test_y, res)\n",
    "    \n",
    "def plot_circle(x, y, values):\n",
    "    plt.figure(figsize=(8,8))\n",
    "    plt.tripcolor(x.ravel(), y.ravel(), values.ravel())\n",
    "    #colors = plt.contourf(test_x, test_y, mu_shaped,  250)\n",
    "    plt.colorbar()\n",
    "    plt.scatter(interior[:,0], interior[:,1],  marker='x', c='black', s=50, label='Interior Points')\n",
    "    plt.legend()\n",
    "    plt.axis('scaled')\n",
    "    plt.xlim(-1.1,1.1); plt.ylim(-1.1,1.1);\n",
    "    plt.gcf().patch.set_alpha(0.0)"
   ]
  },
  {
   "cell_type": "code",
   "execution_count": 15,
   "metadata": {
    "collapsed": false
   },
   "outputs": [],
   "source": [
    "# now need to construct the thingy we are proposing over.\n",
    "# Put a basis function at each point in the domain and iterate over them\n",
    "\n",
    "# jointly proposing over the function and its derivatives wrt x and y.\n",
    "# ironically constructing this is very similar to constructing our kernel matrix\n",
    "Identity = lambda k: k\n",
    "d1 = lambda k: k.diff(x_1)\n",
    "d2 = lambda k: k.diff(x_2)\n",
    "d1_bar = lambda k: k.diff(y_1)\n",
    "d2_bar = lambda k: k.diff(y_2)\n",
    "\n",
    "proposal_obs = [\n",
    "    (field_pts, None),\n",
    "    (field_pts, None),\n",
    "    (field_pts, None)\n",
    "]\n",
    "\n",
    "proposal_op_cache = bpdes.operator_compilation.compile_sympy([Identity, d1, d2], \n",
    "                                                             [Identity, d1_bar, d2_bar], \n",
    "                                                             k_sqexp, \n",
    "                                                             [[x_1, x_2], [y_1, y_2], [length_scale]]\n",
    "                                                            )\n"
   ]
  },
  {
   "cell_type": "code",
   "execution_count": 16,
   "metadata": {
    "collapsed": false
   },
   "outputs": [],
   "source": [
    "# is there a units issue with normalising voltage here?\n",
    "true_x = bdy\n",
    "kappa_0 = np.zeros((n_field*3, 1))\n",
    "currents = [e[0] for e in experiments]\n",
    "voltages = [e[1] for e in experiments]\n",
    "#volt_mean = np.asarray(voltages).mean()\n",
    "#volt_std = np.asarray(voltages).std()\n",
    "volt_mean = 0.\n",
    "volt_std = 1."
   ]
  },
  {
   "cell_type": "code",
   "execution_count": 17,
   "metadata": {
    "collapsed": false
   },
   "outputs": [],
   "source": [
    "def potential(proposal, length_scale):\n",
    "    # potential is the negative log-likelihood\n",
    "    return -log_likelihood(proposal, length_scale)\n",
    "\n",
    "def log_likelihood(proposal, length_scale):\n",
    "    # ugly and dirty and horrid\n",
    "    kappa, kappa_x, kappa_y = vec_to_kappas(proposal)\n",
    "    \n",
    "    oc = TransformedOpCache(arg_caching, kappa, kappa_x, kappa_y)\n",
    "    #oc = op_cache\n",
    "    \n",
    "    posterior = bpdes.collocate(ops, ops_bar, None, None, obs, oc, fun_args=[np.array([length_scale])])\n",
    "    mu_mult, cov = posterior.no_obs_posterior(true_x)\n",
    "    cov_with_error = cov + likelihood_sigma**2*np.eye(cov.shape[0])\n",
    "    \n",
    "    \n",
    "    cov_with_error_inv = np.linalg.inv(cov_with_error)\n",
    "    cov_with_error_det = np.linalg.det(cov_with_error)\n",
    "    #if np.isnan(np.log(cov_with_error_det)):\n",
    "    #    raise Exception('Log-determinant is NaN')\n",
    "    \n",
    "    #print(np.linalg.cond(cov_with_error), cov_with_error_det)\n",
    "    #plt.matshow(cov_with_error); plt.colorbar()\n",
    "    \n",
    "    ret = 0\n",
    "    try:\n",
    "        for c, v in zip(currents, voltages):\n",
    "            g = np.concatenate([interior_obs, c])\n",
    "            true_u = (v.ravel() - volt_mean) / volt_std\n",
    "            true_u = true_u.reshape((len(true_u), 1))\n",
    "            mu = mu_mult.dot(g).reshape(true_u.shape)\n",
    "\n",
    "            # todo: some inefficiency here - inverting cov multiple times\n",
    "            #this_lik = stats.multivariate_normal.logpdf(true_u.ravel(), mu.ravel(), cov_with_error, False)\n",
    "            #this_lik = -(mu-true_u).T.dot(cov_with_error_inv).dot(mu-true_u) - 0.5*np.log(cov_with_error_det)\n",
    "            this_lik = -(mu - true_u).T.dot(mu - true_u) / (2*likelihood_sigma**2)\n",
    "            ret += this_lik\n",
    "    except:\n",
    "        return -np.inf\n",
    "    return ret"
   ]
  },
  {
   "cell_type": "code",
   "execution_count": 18,
   "metadata": {
    "collapsed": true
   },
   "outputs": [],
   "source": [
    "likelihood_sigma = 1e-4"
   ]
  },
  {
   "cell_type": "code",
   "execution_count": 19,
   "metadata": {
    "collapsed": false
   },
   "outputs": [
    {
     "name": "stderr",
     "output_type": "stream",
     "text": [
      "/Users/benorn/.virtualenvs/stats/lib/python2.7/site-packages/autograd/numpy/numpy_wrapper.py:54: UserWarning: r_ is slow for array inputs. np.concatenate() is faster.\n",
      "  \"np.concatenate() is faster.\".format(slow_op_name))\n"
     ]
    }
   ],
   "source": [
    "import scipy\n",
    "tmp = scipy.optimize.minimize(np.vectorize(lambda x: potential(kappa_0, x)), 0.2, method='Nelder-Mead')\n",
    "ls_ml = tmp.x"
   ]
  },
  {
   "cell_type": "code",
   "execution_count": 20,
   "metadata": {
    "collapsed": false
   },
   "outputs": [
    {
     "name": "stdout",
     "output_type": "stream",
     "text": [
      "[ 0.16260674]\n"
     ]
    }
   ],
   "source": [
    "print(ls_ml)"
   ]
  },
  {
   "cell_type": "code",
   "execution_count": 21,
   "metadata": {
    "collapsed": false
   },
   "outputs": [],
   "source": [
    "kern_mat = bpdes.collocation.calc_LLbar([Identity, d1, d2], \n",
    "                                        [Identity, d1_bar, d2_bar], \n",
    "                                        proposal_obs, \n",
    "                                        proposal_op_cache, \n",
    "                                        fun_args=[ls_ml]\n",
    "                                       )"
   ]
  },
  {
   "cell_type": "code",
   "execution_count": 22,
   "metadata": {
    "collapsed": true
   },
   "outputs": [],
   "source": [
    "dest_name = '/Users/benorn/samples_test_coll.h5'\n",
    "n_iter = 2000000\n",
    "storage_dump_interval = int(1e3)\n",
    "beta = 5e-5"
   ]
  },
  {
   "cell_type": "code",
   "execution_count": 24,
   "metadata": {
    "collapsed": false
   },
   "outputs": [],
   "source": [
    "import tables\n",
    "with tables.open_file(dest_name, 'w') as tab:\n",
    "    tab.create_group('/', 'params')\n",
    "    tab.create_array('/params', 'beta', obj=beta)\n",
    "    tab.create_array('/params', 'length_scale', obj=ls_ml)\n",
    "    tab.create_array('/params', 'proposal_matrix', obj=kern_mat)\n",
    "    tab.create_array('/params', 'locations', obj=field_pts)"
   ]
  },
  {
   "cell_type": "code",
   "execution_count": null,
   "metadata": {
    "collapsed": false
   },
   "outputs": [],
   "source": [
    "from mcmc import storage\n",
    "with storage.DiskBackedStorage((storage_dump_interval, n_field*3), dest_name) as st:\n",
    "    proposal = pcn.proposal(beta, kern_mat)\n",
    "    _, acceptances = pcn.pCN(n_iter, proposal, lambda k: potential(k, ls_ml), kappa_0, storage=st)\n",
    "with tables.open_file(dest_name, 'w') as tab:\n",
    "    tab.create_array('/', 'acceptances', acceptances)"
   ]
  },
  {
   "cell_type": "code",
   "execution_count": null,
   "metadata": {
    "collapsed": true
   },
   "outputs": [],
   "source": []
  },
  {
   "cell_type": "code",
   "execution_count": 33,
   "metadata": {
    "collapsed": true
   },
   "outputs": [],
   "source": [
    "\n",
    "with tables.open_file(dest_name) as tab:\n",
    "    tmp = tab.get_node('/samples')\n",
    "    thinned_burned = tmp[1000000::100]"
   ]
  },
  {
   "cell_type": "code",
   "execution_count": 35,
   "metadata": {
    "collapsed": false
   },
   "outputs": [
    {
     "data": {
      "image/png": "[encoded data removed]",
      "text/plain": [
       "<matplotlib.figure.Figure at 0x105a45d50>"
      ]
     },
     "metadata": {},
     "output_type": "display_data"
    }
   ],
   "source": [
    "actual = np.mean(thinned_burned, axis=0)\n",
    "\n",
    "plot_circle(field_pts[:,0], field_pts[:,1], np.exp(actual[:len(field_pts)]))"
   ]
  },
  {
   "cell_type": "code",
   "execution_count": 37,
   "metadata": {
    "collapsed": false
   },
   "outputs": [
    {
     "data": {
      "text/plain": [
       "array([[-76403177.70134456]])"
      ]
     },
     "execution_count": 37,
     "metadata": {},
     "output_type": "execute_result"
    }
   ],
   "source": [
    "log_likelihood(thinned_burned[-1,:], ls_ml)"
   ]
  },
  {
   "cell_type": "code",
   "execution_count": null,
   "metadata": {
    "collapsed": false
   },
   "outputs": [],
   "source": [
    "log_likelihood(true_fun)"
   ]
  },
  {
   "cell_type": "markdown",
   "metadata": {},
   "source": [
    "# Dummy diffusivity field"
   ]
  },
  {
   "cell_type": "code",
   "execution_count": null,
   "metadata": {
    "collapsed": false
   },
   "outputs": [],
   "source": [
    "true_kappa = sp.exp(-((x_1 - 0.5)**2 + (0.5*x_2 + 0.1)**2) / (2*0.2**2)) + sp.exp(-((x_1 + 0.5)**2 + (0.5*x_2 + 0.1)**2) / (2*0.2**2)) +  \\\n",
    "                sp.exp(-((x_1)**2 + (x_2-0.5)**2)/(2*0.2**2))\n",
    "true_kappa_dx1 = true_kappa.diff(x_1)\n",
    "true_kappa_dx2 = true_kappa.diff(x_2)\n",
    "\n",
    "true_kappa_fun = np.vectorize(sp.lambdify([x_1, x_2], true_kappa))\n",
    "true_kappa_dx1_fun = np.vectorize(sp.lambdify([x_1, x_2], true_kappa_dx1))\n",
    "true_kappa_dx2_fun = np.vectorize(sp.lambdify([x_1, x_2], true_kappa_dx2))"
   ]
  },
  {
   "cell_type": "code",
   "execution_count": null,
   "metadata": {
    "collapsed": true
   },
   "outputs": [],
   "source": [
    "true_k = np.log(true_kappa_fun(field_pts[:,0], field_pts[:,1]))\n",
    "true_k_x = true_kappa_dx1_fun(field_pts[:,0], field_pts[:,1])\n",
    "true_k_y = true_kappa_dx2_fun(field_pts[:,0], field_pts[:,1])\n",
    "true_fun = np.r_[true_k, true_k_x, true_k_y]"
   ]
  },
  {
   "cell_type": "code",
   "execution_count": null,
   "metadata": {
    "collapsed": false
   },
   "outputs": [],
   "source": [
    "plot_circle(field_pts[:,0], field_pts[:,1], true_k)"
   ]
  },
  {
   "cell_type": "code",
   "execution_count": null,
   "metadata": {
    "collapsed": false
   },
   "outputs": [],
   "source": [
    "noise_variance = 1e-2\n",
    "true_currents = [e[0] for e in experiments]\n",
    "true_voltages = []\n",
    "oc = TransformedOpCache(op_cache_base, true_k, true_k_x, true_k_y)\n",
    "posterior = bpdes.collocate(ops, ops_bar, None, None, obs, oc)\n",
    "mu_mult, cov = posterior.no_obs_posterior(true_x)\n",
    "for c in true_currents:\n",
    "    g = np.concatenate([interior_obs, c])\n",
    "    mu = mu_mult.dot(g)# + np.random.normal(size=(mu_mult.shape[0], 1)) * noise_variance\n",
    "    true_voltages.append(mu)"
   ]
  },
  {
   "cell_type": "code",
   "execution_count": null,
   "metadata": {
    "collapsed": true
   },
   "outputs": [],
   "source": [
    "# put into the same format\n"
   ]
  },
  {
   "cell_type": "code",
   "execution_count": null,
   "metadata": {
    "collapsed": false
   },
   "outputs": [],
   "source": [
    "voltage_file = np.concatenate([np.array([[0]])] + true_voltages)\n",
    "np.savetxt('sim_data/volatages.txt', voltage_file)\n",
    "np.savetxt('sim_data/truth.txt', np.c_[np.repeat(field_pts, 3, 0), true_fun[:,None]])"
   ]
  },
  {
   "cell_type": "code",
   "execution_count": null,
   "metadata": {
    "collapsed": false
   },
   "outputs": [],
   "source": [
    "np.repeat(field_pts, 3, 0).shape"
   ]
  },
  {
   "cell_type": "code",
   "execution_count": null,
   "metadata": {
    "collapsed": false
   },
   "outputs": [],
   "source": [
    "field_pts.shape"
   ]
  },
  {
   "cell_type": "code",
   "execution_count": null,
   "metadata": {
    "collapsed": false
   },
   "outputs": [],
   "source": [
    "true_fun.shape"
   ]
  },
  {
   "cell_type": "code",
   "execution_count": null,
   "metadata": {
    "collapsed": true
   },
   "outputs": [],
   "source": []
  }
 ],
 "metadata": {
  "kernelspec": {
   "display_name": "Python 2",
   "language": "python",
   "name": "python2"
  },
  "language_info": {
   "codemirror_mode": {
    "name": "ipython",
    "version": 2
   },
   "file_extension": ".py",
   "mimetype": "text/x-python",
   "name": "python",
   "nbconvert_exporter": "python",
   "pygments_lexer": "ipython2",
   "version": "2.7.11"
  }
 },
 "nbformat": 4,
 "nbformat_minor": 0
}
