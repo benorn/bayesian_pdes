{
 "cells": [
  {
   "cell_type": "code",
   "execution_count": 169,
   "metadata": {
    "collapsed": false
   },
   "outputs": [],
   "source": [
    "import logging\n",
    "logger = logging.getLogger()\n",
    "for handler in logger.handlers:\n",
    "    handler.level = logging.WARNING\n",
    "handler = logging.FileHandler(filename='eit.log', mode='w')\n",
    "handler.level = logging.INFO\n",
    "logger.level = logging.INFO\n",
    "logger.addHandler(handler)"
   ]
  },
  {
   "cell_type": "code",
   "execution_count": 170,
   "metadata": {
    "collapsed": false
   },
   "outputs": [
    {
     "name": "stdout",
     "output_type": "stream",
     "text": [
      "The mcmc extension is already loaded. To reload it, use:\n",
      "  %reload_ext mcmc\n"
     ]
    }
   ],
   "source": [
    "%matplotlib inline\n",
    "import matplotlib.pyplot as plt\n",
    "import matplotlib.tri as tri\n",
    "from mpl_toolkits.mplot3d import Axes3D\n",
    "import numpy as np\n",
    "import sympy as sp\n",
    "sp.init_printing()\n",
    "import bayesian_pdes as bpdes\n",
    "from bayesian_pdes.problems import eit\n",
    "import matplotlib\n",
    "from mcmc import pcn\n",
    "%load_ext mcmc\n",
    "%mcmc notebook\n",
    "import scipy\n",
    "from scipy import stats\n",
    "import tables\n",
    "import os\n",
    "import bayesian_design as bd\n",
    "#import gpanim\n",
    "#matplotlib.rc('text', usetex=True)\n",
    "#matplotlib.rcParams['text.latex.unicode'] = True"
   ]
  },
  {
   "cell_type": "code",
   "execution_count": 171,
   "metadata": {
    "collapsed": true
   },
   "outputs": [],
   "source": [
    "bayesian_approach = True\n",
    "use_real_data = False\n",
    "noise_variance = 10.0\n",
    "n_pts = 80\n",
    "seed_name = 'eit_results/mean_bayes_ed_n=80.npy'.format(n_pts)"
   ]
  },
  {
   "cell_type": "code",
   "execution_count": 172,
   "metadata": {
    "collapsed": false
   },
   "outputs": [],
   "source": [
    "seed = 124\n",
    "np.random.seed(seed)"
   ]
  },
  {
   "cell_type": "code",
   "execution_count": 173,
   "metadata": {
    "collapsed": true
   },
   "outputs": [],
   "source": [
    "x_1,x_2,y_1,y_2 = sp.symbols('x_1 x_2 y_1 y_2')"
   ]
  },
  {
   "cell_type": "code",
   "execution_count": 174,
   "metadata": {
    "collapsed": false
   },
   "outputs": [],
   "source": [
    "# load in observational data\n",
    "current_file = np.loadtxt('RPI_2d_chest_phantom_data/ssout1.dat')\n",
    "if use_real_data:\n",
    "    voltage_file = np.loadtxt('RPI_2d_chest_phantom_data/ACT2000r.txt')\n",
    "    #voltage_file = np.loadtxt('RPI_2d_chest_phantom_data/ACT2006r.txt') # empty tank\n",
    "else:\n",
    "    voltage_file = np.loadtxt('sim_data/voltages2.txt')\n",
    "\n",
    "\n",
    "experiments = []\n",
    "for i in range(len(current_file) / 32):\n",
    "    this_currents = current_file[32*i:32*(i+1)]\n",
    "    this_voltages = voltage_file[32*i+1:32*(i+1)+1]\n",
    "    #this_voltages = np.random.normal(this_voltages, noise_variance)\n",
    "    experiments.append((this_currents.reshape((32,1)), this_voltages.reshape((32,1))))"
   ]
  },
  {
   "cell_type": "code",
   "execution_count": 175,
   "metadata": {
    "collapsed": true
   },
   "outputs": [],
   "source": [
    "def cart2pol(points):\n",
    "    x = points[:,0]\n",
    "    y = points[:,1]\n",
    "    rho = np.sqrt(x**2 + y**2)\n",
    "    phi = np.arctan2(y, x)\n",
    "    return np.column_stack([rho, phi])\n",
    "\n",
    "def pol2cart(points):\n",
    "    rho = points[:,0]\n",
    "    phi = points[:,1]\n",
    "    x = rho * np.cos(phi)\n",
    "    y = rho * np.sin(phi)\n",
    "    return np.column_stack([x, y])"
   ]
  },
  {
   "cell_type": "markdown",
   "metadata": {},
   "source": [
    "# Set Up Grid for $\\kappa$"
   ]
  },
  {
   "cell_type": "code",
   "execution_count": 176,
   "metadata": {
    "collapsed": false
   },
   "outputs": [],
   "source": [
    "# there are 32 evenly spaced electrodes between 0 and 2\\pi\n",
    "# the electrodes go counter-clockwise from the +x axis and finish at x=1, y=0\n",
    "electrodes = np.linspace(0, 2*np.pi, 33)[1:-1]\n",
    "electrodes = np.append(electrodes,0)\n",
    "electrode_x = np.cos(electrodes)\n",
    "electrode_y = np.sin(electrodes)\n",
    "\n",
    "bdy = np.c_[electrode_x, electrode_y]"
   ]
  },
  {
   "cell_type": "code",
   "execution_count": 177,
   "metadata": {
    "collapsed": true
   },
   "outputs": [],
   "source": [
    "def construct_shell(radii):\n",
    "    r_spacing = radii[1] - radii[0]\n",
    "    coords = [np.array([[0.,0.]])]\n",
    "    for r in radii:\n",
    "        # at each 'shell' we want a roughly equal number of theta around the diameter.\n",
    "        # each theta should be about r_spacing apart\n",
    "        n_theta = np.round(2*np.pi*r / r_spacing)\n",
    "        thetas = np.linspace(0, 2*np.pi, n_theta+1)[:-1]\n",
    "        x = np.cos(thetas)\n",
    "        y = np.sin(thetas)\n",
    "        coords.append(r*np.c_[x,y])\n",
    "    coords = np.concatenate(coords)\n",
    "    return coords"
   ]
  },
  {
   "cell_type": "code",
   "execution_count": 178,
   "metadata": {
    "collapsed": false
   },
   "outputs": [],
   "source": [
    "# we also need a few interior points\n",
    "radii = np.linspace(0,1,11)[1:-1]\n",
    "field_interior = construct_shell(radii)"
   ]
  },
  {
   "cell_type": "code",
   "execution_count": 179,
   "metadata": {
    "collapsed": false
   },
   "outputs": [
    {
     "data": {
      "text/plain": [
       "<matplotlib.collections.PathCollection at 0x11273d410>"
      ]
     },
     "execution_count": 179,
     "metadata": {},
     "output_type": "execute_result"
    },
    {
     "data": {
      "image/png": "[encoded data removed]",
      "text/plain": [
       "<matplotlib.figure.Figure at 0x11258e550>"
      ]
     },
     "metadata": {},
     "output_type": "display_data"
    }
   ],
   "source": [
    "plt.figure(figsize=(5,5))\n",
    "plt.xlim(-1.1,1.1); plt.ylim(-1.1,1.1);\n",
    "plt.scatter(bdy[:,0], bdy[:,1], marker='x', c='green')\n",
    "plt.scatter(field_interior[:,0], field_interior[:,1], linewidth=0, c='black', s=1)"
   ]
  },
  {
   "cell_type": "code",
   "execution_count": 180,
   "metadata": {
    "collapsed": true
   },
   "outputs": [],
   "source": [
    "field_pts = np.r_[field_interior, bdy]\n",
    "n_field = len(field_pts)\n",
    "\n",
    "def vec_to_kappas(vec):\n",
    "    return vec[:n_field, None], vec[n_field:2*n_field, None], vec[2*n_field:, None]"
   ]
  },
  {
   "cell_type": "code",
   "execution_count": 181,
   "metadata": {
    "collapsed": false
   },
   "outputs": [
    {
     "name": "stdout",
     "output_type": "stream",
     "text": [
      "316\n"
     ]
    }
   ],
   "source": [
    "print len(field_pts)"
   ]
  },
  {
   "cell_type": "markdown",
   "metadata": {},
   "source": [
    "# Initial Design"
   ]
  },
  {
   "cell_type": "code",
   "execution_count": 182,
   "metadata": {
    "collapsed": true
   },
   "outputs": [],
   "source": [
    "design_radii = np.random.uniform(0,1,n_pts)\n",
    "design_theta = np.random.uniform(-np.pi, np.pi, n_pts)\n",
    "initial_design = pol2cart(np.column_stack([design_radii, design_theta]))"
   ]
  },
  {
   "cell_type": "code",
   "execution_count": 183,
   "metadata": {
    "collapsed": false
   },
   "outputs": [
    {
     "name": "stdout",
     "output_type": "stream",
     "text": [
      "80\n"
     ]
    },
    {
     "data": {
      "image/png": "[encoded data removed]",
      "text/plain": [
       "<matplotlib.figure.Figure at 0x10d60d1d0>"
      ]
     },
     "metadata": {},
     "output_type": "display_data"
    }
   ],
   "source": [
    "plt.figure(figsize=(5,5))\n",
    "plt.scatter(initial_design[:,0], initial_design[:,1])\n",
    "circ_r = np.ones(1000)\n",
    "circ_theta = np.linspace(-np.pi, np.pi, 1000)\n",
    "circ_cart = pol2cart(np.column_stack([circ_r, circ_theta]))\n",
    "plt.plot(circ_cart[:,0], circ_cart[:,1])\n",
    "plt.xlim([-1,1]); plt.ylim([-1,1]);\n",
    "print(len(initial_design))"
   ]
  },
  {
   "cell_type": "markdown",
   "metadata": {},
   "source": [
    "# Construct the Model"
   ]
  },
  {
   "cell_type": "code",
   "execution_count": 184,
   "metadata": {
    "collapsed": false
   },
   "outputs": [],
   "source": [
    "x_1, x_2, y_1, y_2 = sp.symbols('x_1 x_2 y_1 y_2')\n",
    "length_scale = sp.Symbol('sigma')\n",
    "k_sqexp = sp.exp(-((x_1-y_1)**2 + (x_2-y_2)**2) / (2*length_scale**2))\n",
    "eit_sys_factory = eit.EITFactory(k_sqexp, [x_1, x_2], [y_1, y_2], [length_scale], compile_mode='cython', verbosity=0)"
   ]
  },
  {
   "cell_type": "code",
   "execution_count": 185,
   "metadata": {
    "collapsed": true
   },
   "outputs": [],
   "source": [
    "def plot_conductivity(thetas):\n",
    "    sig_expr = get_c(x_1, x_2).subs({t: v for t,v in zip(ts, thetas)})\n",
    "    sigma_field = sp.lambdify([x_1, x_2], sig_expr)\n",
    "    res = np.vectorize(sigma_field)(test_x, test_y)\n",
    "    plot_circle(test_x, test_y, res)\n",
    "    \n",
    "def plot_circle(x, y, values, design=None):\n",
    "    plt.tripcolor(x.ravel(), y.ravel(), values.ravel())\n",
    "    #colors = plt.contourf(test_x, test_y, mu_shaped,  250)\n",
    "    plt.colorbar()\n",
    "    if design is not None:\n",
    "        plt.scatter(design[:,0], design[:,1],  marker='x', c='black', s=50, label='Interior Points')\n",
    "    plt.legend()\n",
    "    plt.axis('scaled')\n",
    "    plt.xlim(-1.1,1.1); plt.ylim(-1.1,1.1);\n",
    "def plot_stimulations(x, y, stims, design=None, n_cols=4):\n",
    "    n_images = stims.shape[0]\n",
    "    n_rows = int(np.ceil(n_images * 1./ n_cols))\n",
    "    print(n_rows, n_cols)\n",
    "    plt.figure(figsize=(n_cols*4, n_rows*4))\n",
    "    for ix in range(n_images):\n",
    "        plt.subplot(n_rows, n_cols, ix+1)\n",
    "        plot_circle(x, y, stims[ix,:], design)"
   ]
  },
  {
   "cell_type": "code",
   "execution_count": 186,
   "metadata": {
    "collapsed": false
   },
   "outputs": [],
   "source": [
    "# now need to construct the thingy we are proposing over.\n",
    "# Put a basis function at each point in the domain and iterate over them\n",
    "\n",
    "# jointly proposing over the function and its derivatives wrt x and y.\n",
    "# ironically constructing this is very similar to constructing our kernel matrix\n",
    "Identity = lambda k: k\n",
    "d1 = lambda k: k.diff(x_1)\n",
    "d2 = lambda k: k.diff(x_2)\n",
    "d1_bar = lambda k: k.diff(y_1)\n",
    "d2_bar = lambda k: k.diff(y_2)\n",
    "\n",
    "proposal_op_cache = bpdes.operator_compilation.compile_sympy([Identity, d1, d2], \n",
    "                                                             [Identity, d1_bar, d2_bar], \n",
    "                                                             k_sqexp, \n",
    "                                                             [[x_1, x_2], [y_1, y_2], [length_scale]],\n",
    "                                                             mode='cython'\n",
    "                                                            )\n"
   ]
  },
  {
   "cell_type": "code",
   "execution_count": 187,
   "metadata": {
    "collapsed": true
   },
   "outputs": [],
   "source": [
    "regress_length_scale = np.array([0.1])"
   ]
  },
  {
   "cell_type": "code",
   "execution_count": 188,
   "metadata": {
    "collapsed": false
   },
   "outputs": [],
   "source": [
    "regress_kern = proposal_op_cache[()]\n",
    "regress_mat = regress_kern(field_pts, field_pts, regress_length_scale)\n",
    "inv_regress_mat = np.linalg.inv(regress_mat)"
   ]
  },
  {
   "cell_type": "code",
   "execution_count": 189,
   "metadata": {
    "collapsed": true
   },
   "outputs": [],
   "source": [
    "def calc_interior_dot_mat(interior_points):\n",
    "    regress_kern = proposal_op_cache[()]\n",
    "    left_multiplier = regress_kern(interior_points, field_pts, regress_length_scale)\n",
    "    return np.dot(left_multiplier, inv_regress_mat)\n",
    "\n",
    "def calc_bdy_dot_mat(bdy_points):\n",
    "    regress_kern = proposal_op_cache[()]\n",
    "    left_multiplier = regress_kern(bdy_points, field_pts, regress_length_scale)\n",
    "    return np.dot(left_multiplier, inv_regress_mat)"
   ]
  },
  {
   "cell_type": "code",
   "execution_count": 190,
   "metadata": {
    "collapsed": false
   },
   "outputs": [],
   "source": [
    "# is there a units issue with normalising voltage here?\n",
    "true_x = bdy\n",
    "if seed_name is not None:\n",
    "    ext = os.path.splitext(seed_name)[1]\n",
    "    if ext == '.h5':\n",
    "        with tables.open_file(seed_name) as tab:\n",
    "            tmp = tab.get_node('/samples')\n",
    "            kappa_0 = tmp[-1, :]\n",
    "    elif ext == '.txt':\n",
    "        tmp = np.loadtxt(seed_name)\n",
    "        kappa_0 = tmp[:,2]\n",
    "    elif ext == '.npy':\n",
    "        tmp = np.load(seed_name)\n",
    "        kappa_0 = tmp\n",
    "else:\n",
    "    kappa_0 = np.zeros((n_field*3, 1))\n",
    "    \n",
    "currents = [e[0] for e in experiments]\n",
    "voltages = [e[1] for e in experiments]\n",
    "#volt_mean = np.asarray(voltages).mean()\n",
    "#volt_std = np.asarray(voltages).std()\n",
    "volt_mean = 0.\n",
    "volt_std = 1."
   ]
  },
  {
   "cell_type": "code",
   "execution_count": 191,
   "metadata": {
    "collapsed": false
   },
   "outputs": [],
   "source": [
    "def get_posterior(proposal, length_scale, interior_points, boundary_points, use_cache=False,\n",
    "                  interior_dot_mat=None, boundary_dot_mat=None, debug=False):\n",
    "    sim_kappa, sim_kappa_x, sim_kappa_y = vec_to_kappas(proposal)\n",
    "        \n",
    "    # use current design if interior points are none\n",
    "    if interior_dot_mat is None:\n",
    "        interior_dot_mat = calc_interior_dot_mat(interior_points)\n",
    "    if boundary_dot_mat is None:\n",
    "        boundary_dot_mat = calc_bdy_dot_mat(boundary_points)\n",
    "    kappa_int = interior_dot_mat.dot(sim_kappa).ravel()\n",
    "    kappa_bdy = boundary_dot_mat.dot(sim_kappa).ravel()\n",
    "    kappa_x = interior_dot_mat.dot(sim_kappa_x).ravel()\n",
    "    kappa_y = interior_dot_mat.dot(sim_kappa_y).ravel()\n",
    "\n",
    "    # these should all be satisfied if the interior design matches the simulation field\n",
    "    if debug and np.all(interior_points == field_interior):\n",
    "        np.testing.assert_almost_equal(kappa_int, sim_kappa[:len(field_interior), 0])\n",
    "        np.testing.assert_almost_equal(kappa_bdy, sim_kappa[len(field_interior):, 0])\n",
    "        np.testing.assert_almost_equal(kappa_x, sim_kappa_x[:len(field_interior), 0])\n",
    "        np.testing.assert_almost_equal(kappa_y, sim_kappa_y[:len(field_interior), 0])\n",
    "    oc = eit_sys_factory.get_operator_system(kappa_int, kappa_bdy, kappa_x, kappa_y, use_cache)\n",
    "    ops = oc.operators\n",
    "    ops_bar = oc.operators_bar\n",
    "    # always observing the same boundary points\n",
    "    obs = [(interior_points, None), (bdy, None)]\n",
    "\n",
    "    posterior = bpdes.collocate(ops, ops_bar, None, None, obs, oc, fun_args=length_scale)\n",
    "    return posterior"
   ]
  },
  {
   "cell_type": "code",
   "execution_count": 192,
   "metadata": {
    "collapsed": false
   },
   "outputs": [],
   "source": [
    "class EITState(object):\n",
    "    def __init__(self, design, length_scale, regress_op_cache, debug=False):\n",
    "        self.design = design\n",
    "        self.length_scale = length_scale\n",
    "        self.regress_op_cache = regress_op_cache\n",
    "        \n",
    "        self.interior_dot_mat = calc_interior_dot_mat(design)\n",
    "        self.boundary_dot_mat = calc_bdy_dot_mat(bdy)\n",
    "        \n",
    "        self.debug = debug\n",
    "        \n",
    "    def potential(self, proposal, use_cache=True):\n",
    "        # potential is the negative log-likelihood\n",
    "        return -self.log_likelihood(proposal, use_cache)\n",
    "        \n",
    "    def get_posterior(self, proposal, use_cache=False):\n",
    "        return get_posterior(proposal, self.length_scale, self.design, bdy, use_cache, \n",
    "                             self.interior_dot_mat, self.boundary_dot_mat, self.debug)\n",
    "    \n",
    "    def solve_forward(self, proposal, locations, use_cache=False):\n",
    "        posterior = self.get_posterior(proposal, use_cache)\n",
    "        \n",
    "        mu_mult, cov = posterior.no_obs_posterior(locations)\n",
    "        \n",
    "        interior_obs = np.zeros((self.design.shape[0], 1))\n",
    "        res = np.empty((len(currents), mu_mult.shape[0]))\n",
    "        for ix, current in enumerate(currents):\n",
    "            g = np.concatenate([interior_obs, current])\n",
    "            mu = mu_mult.dot(g)\n",
    "            res[ix, :] = mu.ravel()\n",
    "        return res, cov\n",
    "            \n",
    "    \n",
    "    def log_likelihood(self, proposal, use_cache=True):\n",
    "        mus, cov = self.solve_forward(proposal, true_x, use_cache=use_cache)\n",
    "        cov = noise_variance**2*cov\n",
    "        like_error = noise_variance**2*np.eye(cov.shape[0])\n",
    "        cov_with_error = cov + like_error\n",
    "        \n",
    "        if self.debug:\n",
    "            print('covariance vs. likelihood trace: {:.4e}, {:.4e}'.format(np.trace(cov), np.trace(like_error)))\n",
    "        if bayesian_approach:\n",
    "            like_dist = stats.multivariate_normal(np.zeros(cov.shape[0]), cov_with_error, False)\n",
    "        else:\n",
    "            like_dist = stats.multivariate_normal(np.zeros(cov.shape[0]), like_error, False)\n",
    "\n",
    "        ret = 0\n",
    "        try:\n",
    "            for ix, voltage in enumerate(voltages):\n",
    "                true_u = voltage.reshape((len(voltage), 1))\n",
    "                mu = mus[ix,:]\n",
    "\n",
    "                this_lik = like_dist.logpdf(true_u.ravel() - mu.ravel())\n",
    "                ret += this_lik\n",
    "        except Exception as ex:\n",
    "            if self.debug:\n",
    "                print(ex)\n",
    "            return -np.inf\n",
    "        return ret"
   ]
  },
  {
   "cell_type": "markdown",
   "metadata": {},
   "source": [
    "# Experiment Design"
   ]
  },
  {
   "cell_type": "code",
   "execution_count": 193,
   "metadata": {
    "collapsed": true
   },
   "outputs": [],
   "source": [
    "ls_ml = np.array([0.1])"
   ]
  },
  {
   "cell_type": "code",
   "execution_count": 194,
   "metadata": {
    "collapsed": false
   },
   "outputs": [],
   "source": [
    "test_radii = np.linspace(0, 1, 5)[1:-1]\n",
    "design_test = construct_shell(test_radii)"
   ]
  },
  {
   "cell_type": "code",
   "execution_count": 195,
   "metadata": {
    "collapsed": false
   },
   "outputs": [],
   "source": [
    "design_ls = np.array([0.1])\n",
    "\n",
    "\n",
    "def get_cov_polar(proposal, length_scale, points, debug=False):\n",
    "    if points.shape == (2,):\n",
    "        points = points.reshape((1,2))\n",
    "    cart_points = pol2cart(points)\n",
    "    posterior = get_posterior(proposal, length_scale, cart_points, bdy, use_cache=False, debug=debug)\n",
    "    cov = posterior.diagonal_covariance(design_test)\n",
    "    return cov\n",
    "    \n",
    "def get_cov(points):\n",
    "    return get_cov_polar(kappa_0, design_ls, points)\n",
    "bdy_epsilon = 0.01\n",
    "get_optimizer_bounds = lambda p: [(bdy_epsilon, 1.-bdy_epsilon), (-np.pi + bdy_epsilon, np.pi-bdy_epsilon)]\n",
    "\n",
    "# todo: need to couch the problem in polar coordinates so that we can just work in a square instead of a\n",
    "# circle. In a circle the optimizer will struggle.\n",
    "optimizer = bd.optimizers.gpyopt_optimizer(get_optimizer_bounds)\n",
    "initial_design_polar = cart2pol(initial_design.copy())\n",
    "\n",
    "loss = bd.a_optimality(get_cov)\n",
    "file_name = 'eit_designs/n={}.npy'.format(n_pts)\n",
    "if not os.path.exists(file_name):\n",
    "    new_design = bd.ace(initial_design_polar, \n",
    "                        5, \n",
    "                        20, \n",
    "                        loss, \n",
    "                        optimizer,\n",
    "                        debug=1\n",
    "                       )\n",
    "    np.save(file_name, new_design)\n",
    "else:\n",
    "    new_design = np.load(file_name)\n",
    "new_design = pol2cart(new_design)"
   ]
  },
  {
   "cell_type": "code",
   "execution_count": 196,
   "metadata": {
    "collapsed": false,
    "scrolled": false
   },
   "outputs": [
    {
     "data": {
      "image/png": "[encoded data removed]",
      "text/plain": [
       "<matplotlib.figure.Figure at 0x10be39b10>"
      ]
     },
     "metadata": {},
     "output_type": "display_data"
    }
   ],
   "source": [
    "def scatter_design(design):\n",
    "    plt.scatter(design[:,0], design[:,1], marker='x', c='black')\n",
    "    plt.scatter(bdy[:,0], bdy[:,1], marker='o', c='white', s=30)\n",
    "    plt.plot(circ_cart[:,0], circ_cart[:,1], c='black')\n",
    "    plt.legend()\n",
    "    plt.xlim(-1.1, 1.1); plt.ylim(-1.1, 1.1);\n",
    "plt.figure(figsize=(10, 5))\n",
    "plt.subplot(121)\n",
    "plt.title('Initial Design', fontsize=16)\n",
    "scatter_design(initial_design)\n",
    "plt.subplot(122)\n",
    "plt.title('Optimal Design', fontsize=16)\n",
    "scatter_design(new_design)\n",
    "plt.savefig('figures/eit_designs_{}.pdf'.format(n_pts), transparent=True, bbox_inches=0)"
   ]
  },
  {
   "cell_type": "markdown",
   "metadata": {},
   "source": [
    "# MCMC"
   ]
  },
  {
   "cell_type": "code",
   "execution_count": 197,
   "metadata": {
    "collapsed": false
   },
   "outputs": [
    {
     "name": "stdout",
     "output_type": "stream",
     "text": [
      "[ 0.1721349]\n"
     ]
    }
   ],
   "source": [
    "state = EITState(new_design, ls_ml, proposal_op_cache)\n",
    "def potential(ls):\n",
    "    res = np.empty_like(ls)\n",
    "    for ix, scale in enumerate(ls):\n",
    "        state.length_scale = np.array([scale])\n",
    "        res[ix] = -state.log_likelihood(kappa_0, False)\n",
    "    return res\n",
    "    \n",
    "tmp = scipy.optimize.minimize(potential, 0.1, method='Nelder-Mead')\n",
    "ls_ml = tmp.x\n",
    "print(ls_ml)"
   ]
  },
  {
   "cell_type": "code",
   "execution_count": 198,
   "metadata": {
    "collapsed": false
   },
   "outputs": [
    {
     "data": {
      "text/plain": [
       "[<matplotlib.lines.Line2D at 0x112a9b390>]"
      ]
     },
     "execution_count": 198,
     "metadata": {},
     "output_type": "execute_result"
    },
    {
     "data": {
      "image/png": "[encoded data removed]",
      "text/plain": [
       "<matplotlib.figure.Figure at 0x10b968050>"
      ]
     },
     "metadata": {},
     "output_type": "display_data"
    }
   ],
   "source": [
    "values = np.linspace(0.01, 0.1, 20)\n",
    "potentials = potential(values)\n",
    "plt.plot(values, potentials)"
   ]
  },
  {
   "cell_type": "code",
   "execution_count": 199,
   "metadata": {
    "collapsed": false
   },
   "outputs": [
    {
     "name": "stdout",
     "output_type": "stream",
     "text": [
      "covariance vs. likelihood trace: 2.7400e+03, 3.2000e+03\n"
     ]
    },
    {
     "data": {
      "image/png": "[encoded data removed]",
      "text/latex": [
       "$$-9620636.19574$$"
      ],
      "text/plain": [
       "-9620636.19574"
      ]
     },
     "execution_count": 199,
     "metadata": {},
     "output_type": "execute_result"
    }
   ],
   "source": [
    "test_state = EITState(new_design, ls_ml, proposal_op_cache, debug=True)\n",
    "test_state.log_likelihood(kappa_0)"
   ]
  },
  {
   "cell_type": "code",
   "execution_count": 200,
   "metadata": {
    "collapsed": false
   },
   "outputs": [],
   "source": [
    "propose_ls = np.array([0.1])\n",
    "proposal_obs = [\n",
    "    (field_pts, None),\n",
    "    (field_pts, None),\n",
    "    (field_pts, None),\n",
    "]\n",
    "proposal_caching_op_cache = bpdes.operator_compilation.CachingOpCache(proposal_op_cache)\n",
    "kern_mat = bpdes.collocation.calc_LLbar([Identity, d1, d2], \n",
    "                                        [Identity, d1_bar, d2_bar], \n",
    "                                        proposal_obs, \n",
    "                                        proposal_op_cache, \n",
    "                                        fun_args=propose_ls\n",
    "                                       )"
   ]
  },
  {
   "cell_type": "code",
   "execution_count": 201,
   "metadata": {
    "collapsed": false
   },
   "outputs": [],
   "source": [
    "mcmc_state = EITState(new_design, ls_ml, proposal_op_cache)"
   ]
  },
  {
   "cell_type": "code",
   "execution_count": 213,
   "metadata": {
    "collapsed": true
   },
   "outputs": [],
   "source": [
    "n_iter = 5000000\n",
    "beta = 1e-3\n",
    "proposal = pcn.proposal(beta, kern_mat)"
   ]
  },
  {
   "cell_type": "code",
   "execution_count": null,
   "metadata": {
    "collapsed": false
   },
   "outputs": [],
   "source": [
    "from mcmc import storage\n",
    "st = storage.ArrayStorage(n_iter, n_field*3, 100)\n",
    "_, acceptances = pcn.pCN(n_iter, proposal, mcmc_state.potential, kappa_0, storage=st)"
   ]
  },
  {
   "cell_type": "code",
   "execution_count": 204,
   "metadata": {
    "collapsed": true
   },
   "outputs": [],
   "source": [
    "from pandas.tools.plotting import autocorrelation_plot"
   ]
  },
  {
   "cell_type": "code",
   "execution_count": 207,
   "metadata": {
    "collapsed": false
   },
   "outputs": [
    {
     "data": {
      "text/plain": [
       "<matplotlib.axes._subplots.AxesSubplot at 0x112a05750>"
      ]
     },
     "execution_count": 207,
     "metadata": {},
     "output_type": "execute_result"
    },
    {
     "data": {
      "image/png": "[encoded data removed]",
      "text/plain": [
       "<matplotlib.figure.Figure at 0x10d4777d0>"
      ]
     },
     "metadata": {},
     "output_type": "display_data"
    }
   ],
   "source": [
    "autocorrelation_plot(st.array[::10, 1])"
   ]
  },
  {
   "cell_type": "code",
   "execution_count": 209,
   "metadata": {
    "collapsed": false
   },
   "outputs": [
    {
     "data": {
      "text/plain": [
       "[<matplotlib.lines.Line2D at 0x1128b8c10>]"
      ]
     },
     "execution_count": 209,
     "metadata": {},
     "output_type": "execute_result"
    },
    {
     "data": {
      "image/png": "[encoded data removed]",
      "text/plain": [
       "<matplotlib.figure.Figure at 0x1291f81d0>"
      ]
     },
     "metadata": {},
     "output_type": "display_data"
    }
   ],
   "source": [
    "plt.plot(st.array[:, 0])"
   ]
  },
  {
   "cell_type": "code",
   "execution_count": 206,
   "metadata": {
    "collapsed": false
   },
   "outputs": [
    {
     "ename": "NameError",
     "evalue": "name 'thinned_burned' is not defined",
     "output_type": "error",
     "traceback": [
      "\u001b[0;31m---------------------------------------------------------------------------\u001b[0m",
      "\u001b[0;31mNameError\u001b[0m                                 Traceback (most recent call last)",
      "\u001b[0;32m<ipython-input-206-3eea6e251df3>\u001b[0m in \u001b[0;36m<module>\u001b[0;34m()\u001b[0m\n\u001b[0;32m----> 1\u001b[0;31m \u001b[0mactual\u001b[0m \u001b[0;34m=\u001b[0m \u001b[0mnp\u001b[0m\u001b[0;34m.\u001b[0m\u001b[0mmean\u001b[0m\u001b[0;34m(\u001b[0m\u001b[0mthinned_burned\u001b[0m\u001b[0;34m,\u001b[0m \u001b[0maxis\u001b[0m\u001b[0;34m=\u001b[0m\u001b[0;36m0\u001b[0m\u001b[0;34m)\u001b[0m\u001b[0;34m\u001b[0m\u001b[0m\n\u001b[0m\u001b[1;32m      2\u001b[0m \u001b[0;31m#actual = thinned_burned[-1,:]\u001b[0m\u001b[0;34m\u001b[0m\u001b[0;34m\u001b[0m\u001b[0m\n\u001b[1;32m      3\u001b[0m \u001b[0;34m\u001b[0m\u001b[0m\n\u001b[1;32m      4\u001b[0m \u001b[0mplot_circle\u001b[0m\u001b[0;34m(\u001b[0m\u001b[0mfield_pts\u001b[0m\u001b[0;34m[\u001b[0m\u001b[0;34m:\u001b[0m\u001b[0;34m,\u001b[0m\u001b[0;36m0\u001b[0m\u001b[0;34m]\u001b[0m\u001b[0;34m,\u001b[0m \u001b[0mfield_pts\u001b[0m\u001b[0;34m[\u001b[0m\u001b[0;34m:\u001b[0m\u001b[0;34m,\u001b[0m\u001b[0;36m1\u001b[0m\u001b[0;34m]\u001b[0m\u001b[0;34m,\u001b[0m \u001b[0mnp\u001b[0m\u001b[0;34m.\u001b[0m\u001b[0mexp\u001b[0m\u001b[0;34m(\u001b[0m\u001b[0mactual\u001b[0m\u001b[0;34m[\u001b[0m\u001b[0;34m:\u001b[0m\u001b[0mlen\u001b[0m\u001b[0;34m(\u001b[0m\u001b[0mfield_pts\u001b[0m\u001b[0;34m)\u001b[0m\u001b[0;34m]\u001b[0m\u001b[0;34m)\u001b[0m\u001b[0;34m)\u001b[0m\u001b[0;34m\u001b[0m\u001b[0m\n\u001b[1;32m      5\u001b[0m \u001b[0mplt\u001b[0m\u001b[0;34m.\u001b[0m\u001b[0msavefig\u001b[0m\u001b[0;34m(\u001b[0m\u001b[0;34m'figures/eit_conductivity_n={}.pdf'\u001b[0m\u001b[0;34m.\u001b[0m\u001b[0mformat\u001b[0m\u001b[0;34m(\u001b[0m\u001b[0mn_pts\u001b[0m\u001b[0;34m)\u001b[0m\u001b[0;34m,\u001b[0m \u001b[0mtransparent\u001b[0m\u001b[0;34m=\u001b[0m\u001b[0mTrue\u001b[0m\u001b[0;34m,\u001b[0m \u001b[0mbbox_inches\u001b[0m\u001b[0;34m=\u001b[0m\u001b[0;36m0\u001b[0m\u001b[0;34m)\u001b[0m\u001b[0;34m\u001b[0m\u001b[0m\n",
      "\u001b[0;31mNameError\u001b[0m: name 'thinned_burned' is not defined"
     ]
    }
   ],
   "source": [
    "actual = np.mean(thinned_burned, axis=0)\n",
    "#actual = thinned_burned[-1,:]\n",
    "\n",
    "plot_circle(field_pts[:,0], field_pts[:,1], np.exp(actual[:len(field_pts)]))\n",
    "plt.savefig('figures/eit_conductivity_n={}.pdf'.format(n_pts), transparent=True, bbox_inches=0)"
   ]
  },
  {
   "cell_type": "code",
   "execution_count": null,
   "metadata": {
    "collapsed": true
   },
   "outputs": [],
   "source": [
    "np.save('eit_results/mean_bayes_ed_n={}.npy'.format(n_pts), actual)\n",
    "np.save('eit_results/std_bayes_ed_n={}.npy'.format(n_pts), np.std(thinned_burned, axis=0))"
   ]
  },
  {
   "cell_type": "markdown",
   "metadata": {},
   "source": [
    "# Covariance"
   ]
  },
  {
   "cell_type": "markdown",
   "metadata": {},
   "source": [
    "# Dummy diffusivity field"
   ]
  },
  {
   "cell_type": "code",
   "execution_count": null,
   "metadata": {
    "collapsed": false
   },
   "outputs": [],
   "source": [
    "model_ls = np.array([0.1])"
   ]
  },
  {
   "cell_type": "code",
   "execution_count": null,
   "metadata": {
    "collapsed": false
   },
   "outputs": [],
   "source": [
    "true_kappa = sp.exp(-((x_1 - 0.4)**2 + (x_2 - 0.4)**2) / (2*0.2**2)) + sp.exp(-((x_1 + 0.4)**2 + (x_2 + 0.4)**2) / (2*0.2**2))\n",
    "true_kappa_dx1 = true_kappa.diff(x_1)\n",
    "true_kappa_dx2 = true_kappa.diff(x_2)\n",
    "\n",
    "true_kappa_fun = np.vectorize(sp.lambdify([x_1, x_2], true_kappa))\n",
    "true_kappa_dx1_fun = np.vectorize(sp.lambdify([x_1, x_2], true_kappa_dx1))\n",
    "true_kappa_dx2_fun = np.vectorize(sp.lambdify([x_1, x_2], true_kappa_dx2))"
   ]
  },
  {
   "cell_type": "code",
   "execution_count": null,
   "metadata": {
    "collapsed": true
   },
   "outputs": [],
   "source": [
    "true_k_int = np.log(true_kappa_fun(field_interior[:,0], field_interior[:,1]))\n",
    "true_k_bdy = np.log(true_kappa_fun(bdy[:,0], bdy[:,1]))\n",
    "true_k_x = true_kappa_dx1_fun(field_pts[:,0], field_pts[:,1])\n",
    "true_k_y = true_kappa_dx2_fun(field_pts[:,0], field_pts[:,1])\n",
    "true_fun = np.r_[true_k_int, true_k_bdy, true_k_x, true_k_y]"
   ]
  },
  {
   "cell_type": "code",
   "execution_count": null,
   "metadata": {
    "collapsed": false
   },
   "outputs": [],
   "source": [
    "xi, yi = np.meshgrid(field_pts[:,0], field_pts[:,1])\n",
    "from matplotlib.mlab import griddata\n",
    "true_k = np.r_[true_k_int, true_k_bdy]\n",
    "zi = griddata(field_pts[:,0], field_pts[:,1], np.exp(true_k), xi, yi, interp='linear')"
   ]
  },
  {
   "cell_type": "code",
   "execution_count": null,
   "metadata": {
    "collapsed": false
   },
   "outputs": [],
   "source": [
    "plt.figure(figsize=(8,8))\n",
    "#plot_circle(field_pts[:,0], field_pts[:,1], np.exp(true_k), field_interior)\n",
    "plt.plot(circ_cart[:,0], circ_cart[:,1], c='black', linewidth=4)\n",
    "plt.contourf(xi, yi, zi, 50)\n",
    "plt.savefig('figures/eit_diffusivity.pdf', transparent=True, bbox_inches=0)"
   ]
  },
  {
   "cell_type": "code",
   "execution_count": null,
   "metadata": {
    "collapsed": false
   },
   "outputs": [],
   "source": [
    "true_currents = [e[0] for e in experiments]\n",
    "true_voltages = []\n",
    "oc = eit_sys_factory.get_operator_system(true_k_int, true_k_bdy, true_k_x[:len(field_interior)], true_k_x[:len(field_interior)])\n",
    "model_obs = [\n",
    "    (field_interior, None),\n",
    "    (bdy, None)\n",
    "]\n",
    "posterior = bpdes.collocate(oc.operators, oc.operators_bar, None, None, model_obs, oc, fun_args=model_ls)\n",
    "mu_mult, cov = posterior.no_obs_posterior(true_x)\n",
    "mu_mult_plt, _ = posterior.no_obs_posterior(field_pts)\n",
    "model_int_obs = np.zeros((field_interior.shape[0], 1))\n",
    "model_mus = np.empty((len(true_currents), len(field_pts)))\n",
    "\n",
    "for ix, c in enumerate(true_currents):\n",
    "    g = np.concatenate([model_int_obs, c])\n",
    "    mu = mu_mult.dot(g)\n",
    "    model_mus[ix, :] = mu_mult_plt.dot(g).ravel()\n",
    "    true_voltages.append(mu)"
   ]
  },
  {
   "cell_type": "code",
   "execution_count": null,
   "metadata": {
    "collapsed": false
   },
   "outputs": [],
   "source": [
    "cov_with_error = cov + noise_variance**2*np.eye(cov.shape[0])\n",
    "model_like_dist = scipy.stats.multivariate_normal(np.zeros(cov_with_error.shape[0]), cov_with_error)\n",
    "\n",
    "log_like = mu.shape[0] * model_like_dist.logpdf(np.zeros(cov_with_error.shape[0]))\n",
    "print(log_like)"
   ]
  },
  {
   "cell_type": "code",
   "execution_count": null,
   "metadata": {
    "collapsed": false
   },
   "outputs": [],
   "source": [
    "plot_stimulations(field_pts[:,0], field_pts[:,1], model_mus)"
   ]
  },
  {
   "cell_type": "code",
   "execution_count": null,
   "metadata": {
    "collapsed": false
   },
   "outputs": [],
   "source": [
    "voltage_file = np.concatenate([np.array([[0]])] + true_voltages)\n",
    "#np.savetxt('sim_data/voltages2.txt', voltage_file)\n",
    "#np.savetxt('sim_data/truth2.txt', np.c_[np.r_[field_pts, field_pts, field_pts], true_fun[:,None]])"
   ]
  }
 ],
 "metadata": {
  "kernelspec": {
   "display_name": "Python 2",
   "language": "python",
   "name": "python2"
  },
  "language_info": {
   "codemirror_mode": {
    "name": "ipython",
    "version": 2
   },
   "file_extension": ".py",
   "mimetype": "text/x-python",
   "name": "python",
   "nbconvert_exporter": "python",
   "pygments_lexer": "ipython2",
   "version": "2.7.11"
  }
 },
 "nbformat": 4,
 "nbformat_minor": 0
}
