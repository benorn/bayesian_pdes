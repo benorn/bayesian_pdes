{
 "cells": [
  {
   "cell_type": "code",
   "execution_count": 1,
   "metadata": {
    "collapsed": false,
    "deletable": true,
    "editable": true
   },
   "outputs": [],
   "source": [
    "%matplotlib inline\n",
    "from autograd import numpy as np\n",
    "import autograd\n",
    "import bayesian_pdes as bpdes\n",
    "from scipy import stats, linalg\n",
    "import matplotlib.pyplot as plt\n",
    "import mcmc\n",
    "import sympy as sp\n",
    "import os\n",
    "import eit\n",
    "import time\n",
    "%load_ext mcmc\n",
    "%mcmc notebook"
   ]
  },
  {
   "cell_type": "code",
   "execution_count": 2,
   "metadata": {
    "collapsed": false,
    "deletable": true,
    "editable": true
   },
   "outputs": [],
   "source": [
    "scale = 1000\n",
    "kernel_variance_mult = 100.0\n",
    "kernel_ls = 0.3\n",
    "conductivity_variance_mult = 1.0 # 1e-3 is good\n",
    "conductivity_ls = 0.3\n",
    "\n",
    "likelihood_variance = 5.0 # variance for the observation model - based on the value from RA paper\n",
    "design_file = None\n",
    "n_rings = 4\n",
    "n_conductivity_rings = 8\n",
    "adapt_ls = False\n",
    "bayesian = False"
   ]
  },
  {
   "cell_type": "markdown",
   "metadata": {
    "deletable": true,
    "editable": true
   },
   "source": [
    "# Sheet Parameters"
   ]
  },
  {
   "cell_type": "code",
   "execution_count": 3,
   "metadata": {
    "collapsed": true,
    "deletable": true,
    "editable": true
   },
   "outputs": [],
   "source": [
    "# important helpers!\n",
    "def plot_circle(x, y, values, cmap=None):\n",
    "    plt.tripcolor(x.ravel(), y.ravel(), values.ravel(), cmap=cmap)\n",
    "    plt.colorbar()\n",
    "    plt.legend()\n",
    "    plt.axis('scaled')\n",
    "    plt.xlim(-1.1,1.1); plt.ylim(-1.1,1.1);"
   ]
  },
  {
   "cell_type": "code",
   "execution_count": 4,
   "metadata": {
    "collapsed": false,
    "deletable": true,
    "editable": true
   },
   "outputs": [],
   "source": [
    "# load in observational data\n",
    "\n",
    "voltage_file = np.loadtxt('RPI_2d_chest_phantom_data/ACT2000r.txt')\n",
    "current_file = np.loadtxt('RPI_2d_chest_phantom_data/ssout1.dat')\n",
    "#voltage_file = np.loadtxt('RPI_2d_chest_phantom_data/ACT2006r.txt') # empty tank\n",
    "amps = voltage_file[0]\n",
    "\n",
    "currents = np.empty((31, 32))\n",
    "voltages = np.empty((31, 32))\n",
    "for i in range(len(current_file) / 32):\n",
    "    this_currents = current_file[32*i:32*(i+1)]\n",
    "    this_voltages = voltage_file[32*i+1:32*(i+1)+1]\n",
    "    currents[i] = this_currents\n",
    "    voltages[i] = this_voltages"
   ]
  },
  {
   "cell_type": "code",
   "execution_count": 5,
   "metadata": {
    "collapsed": false,
    "deletable": true,
    "editable": true
   },
   "outputs": [],
   "source": [
    "# code for setting up the stim pattern\n",
    "stim_pattern = currents*scale*amps"
   ]
  },
  {
   "cell_type": "code",
   "execution_count": 6,
   "metadata": {
    "collapsed": true,
    "deletable": true,
    "editable": true
   },
   "outputs": [],
   "source": [
    "meas_pattern = np.eye(32)"
   ]
  },
  {
   "cell_type": "code",
   "execution_count": 7,
   "metadata": {
    "collapsed": false,
    "deletable": true,
    "editable": true
   },
   "outputs": [],
   "source": [
    "pattern = eit.grids.EITPattern(meas_pattern, stim_pattern)"
   ]
  },
  {
   "cell_type": "code",
   "execution_count": 8,
   "metadata": {
    "collapsed": false,
    "deletable": true,
    "editable": true
   },
   "outputs": [],
   "source": [
    "data = voltages"
   ]
  },
  {
   "cell_type": "code",
   "execution_count": 17,
   "metadata": {
    "collapsed": false,
    "deletable": true,
    "editable": true
   },
   "outputs": [
    {
     "data": {
      "image/png": "[encoded data removed]",
      "text/plain": [
       "<matplotlib.figure.Figure at 0x10d699150>"
      ]
     },
     "metadata": {},
     "output_type": "display_data"
    }
   ],
   "source": [
    "plt.plot(data[10].T);"
   ]
  },
  {
   "cell_type": "code",
   "execution_count": 9,
   "metadata": {
    "collapsed": false,
    "deletable": true,
    "editable": true
   },
   "outputs": [],
   "source": [
    "# load in reference data\n",
    "ref_voltage_file = np.loadtxt('dummy_data/voltages.txt')\n",
    "ref_voltages = np.empty((31, 32))\n",
    "for i in range(len(current_file) / 32):\n",
    "    this_voltages = ref_voltage_file[32*i+1:32*(i+1)+1]\n",
    "    ref_voltages[i] = this_voltages\n",
    "%run -i dummy_data/function.py"
   ]
  },
  {
   "cell_type": "markdown",
   "metadata": {
    "deletable": true,
    "editable": true
   },
   "source": [
    "## Define the collocation grid"
   ]
  },
  {
   "cell_type": "code",
   "execution_count": 10,
   "metadata": {
    "collapsed": false,
    "deletable": true,
    "editable": true
   },
   "outputs": [
    {
     "name": "stdout",
     "output_type": "stream",
     "text": [
      "96\n"
     ]
    }
   ],
   "source": [
    "n_bdy = 64\n",
    "n_sensor = 32\n",
    "if design_file is None:\n",
    "    grid = eit.grids.construct_circular(n_rings, n_bdy, n_sensor)\n",
    "    design_name = 'regular_n={}'.format(len(grid.interior_plus_boundary))\n",
    "    if not bayesian:\n",
    "        design_name += '_collocate'\n",
    "else:\n",
    "    design_name = design_file\n",
    "    sensors = eit.pol2cart(np.c_[np.ones(n_sensor+1), np.linspace(0, 2*np.pi, n_sensor+1)])[:-1]\n",
    "    design = np.load(os.path.join('eit_designs', design_name + '.npy'))\n",
    "    grid = eit.grids.EITGrid(design, None, sensors)\n",
    "    if not bayesian:\n",
    "        design_name += '_collocate'\n",
    "print len(grid.interior_plus_boundary)"
   ]
  },
  {
   "cell_type": "code",
   "execution_count": 47,
   "metadata": {
    "collapsed": false,
    "deletable": true,
    "editable": true,
    "scrolled": false
   },
   "outputs": [
    {
     "data": {
      "image/png": "[encoded data removed]",
      "text/plain": [
       "<matplotlib.figure.Figure at 0x10e9ca490>"
      ]
     },
     "metadata": {},
     "output_type": "display_data"
    }
   ],
   "source": [
    "# plot design points\n",
    "plt.figure(figsize=(4,4))\n",
    "plt.scatter(grid.interior[:,0], grid.interior[:,1], marker='x', color='black', s=20)\n",
    "plt.scatter(grid.boundary[:,0], grid.boundary[:,1], marker='x', color='black', s=20, label='Design point')\n",
    "plt.scatter(grid.sensors[:,0], grid.sensors[:,1], marker='o', color='green', label='Sensor')\n",
    "plt.xlim(-1.05,1.05);plt.ylim(-1.05,1.05)\n",
    "lgd = plt.legend(loc=2, bbox_to_anchor=(1.05,1))\n",
    "plt.xlabel('$x_1$')\n",
    "plt.ylabel('$x_2$')\n",
    "\n",
    "plt.savefig('figures/eit_regular_design_n={}.pdf'.format(len(grid.interior_plus_boundary)), bbox_extra_artists=(lgd,), bbox_inches='tight', transparent=True)"
   ]
  },
  {
   "cell_type": "markdown",
   "metadata": {
    "deletable": true,
    "editable": true
   },
   "source": [
    "## Set up Proposal Matrix"
   ]
  },
  {
   "cell_type": "code",
   "execution_count": 28,
   "metadata": {
    "collapsed": false,
    "deletable": true,
    "editable": true
   },
   "outputs": [],
   "source": [
    "s_x,s_y,s_xbar,s_ybar = sp.symbols('x_1 x_2 y_1 y_2')\n",
    "s_length_scale, s_variance = sp.symbols('ls, sigma')\n",
    "kernel = s_variance*sp.exp(-((s_x-s_xbar)**2 + (s_y-s_ybar)**2) / (2.*s_length_scale**2))"
   ]
  },
  {
   "cell_type": "code",
   "execution_count": 29,
   "metadata": {
    "collapsed": false,
    "deletable": true,
    "editable": true
   },
   "outputs": [],
   "source": [
    "proposal_kernel = kernel\n",
    "def diff_x(k):\n",
    "    return k.diff(s_x)\n",
    "def diff_y(k):\n",
    "    return k.diff(s_y)\n",
    "def diff_x_bar(k):\n",
    "    return k.diff(s_xbar)\n",
    "def diff_y_bar(k):\n",
    "    return k.diff(s_ybar)\n",
    "\n",
    "proposal_op_system = bpdes.operator_compilation.sympy_gram.compile_sympy(\n",
    "    [diff_x, diff_y], \n",
    "    [diff_x_bar, diff_y_bar], \n",
    "    proposal_kernel,\n",
    "    [[s_x, s_y], [s_xbar, s_ybar], [s_length_scale, s_variance]]\n",
    ")"
   ]
  },
  {
   "cell_type": "code",
   "execution_count": 30,
   "metadata": {
    "collapsed": false,
    "deletable": true,
    "editable": true
   },
   "outputs": [
    {
     "name": "stdout",
     "output_type": "stream",
     "text": [
      "177\n"
     ]
    }
   ],
   "source": [
    "proposal_design = eit.grids.construct_shell(np.linspace(0,1,n_conductivity_rings))\n",
    "print len(proposal_design)"
   ]
  },
  {
   "cell_type": "code",
   "execution_count": 49,
   "metadata": {
    "collapsed": false,
    "deletable": true,
    "editable": true
   },
   "outputs": [
    {
     "data": {
      "image/png": "[encoded data removed]",
      "text/plain": [
       "<matplotlib.figure.Figure at 0x10edd6210>"
      ]
     },
     "metadata": {},
     "output_type": "display_data"
    }
   ],
   "source": [
    "\n",
    "plt.figure(figsize=(4,4))\n",
    "plt.scatter(proposal_design[:,0], proposal_design[:,1], marker='x')\n",
    "plt.xlim(1.05,-1.05);plt.ylim(1.05,-1.05)\n",
    "\n",
    "#plt.scatter(grid.interior[:,0], grid.interior[:,1], marker='x', color='black', s=10)\n",
    "#plt.scatter(grid.boundary[:,0], grid.boundary[:,1], marker='x', color='black', s=10, label='Design point')\n",
    "plt.xlabel('$x_1$')\n",
    "plt.ylabel('$x_2$')\n",
    "plt.savefig('figures/eit_conductivity_design.pdf', transparent=True, bbox_inches='tight')"
   ]
  },
  {
   "cell_type": "code",
   "execution_count": 49,
   "metadata": {
    "collapsed": false,
    "deletable": true,
    "editable": true
   },
   "outputs": [
    {
     "data": {
      "text/plain": [
       "5646662752.2742453"
      ]
     },
     "execution_count": 49,
     "metadata": {},
     "output_type": "execute_result"
    }
   ],
   "source": [
    "full_design = np.row_stack([grid.interior_plus_boundary, grid.sensors])\n",
    "proposal_fun_args = np.array([conductivity_ls, conductivity_variance_mult])\n",
    "proposal_cov = bpdes.collocation.compute_operator_matrix(\n",
    "    [()],\n",
    "    [()],\n",
    "    [proposal_design],\n",
    "    [proposal_design],\n",
    "    proposal_op_system,\n",
    "    proposal_fun_args\n",
    ")\n",
    "proposal_lhs_mat = bpdes.collocation.compute_operator_matrix(\n",
    "    [(), diff_x, diff_y], \n",
    "    [()],\n",
    "    [full_design, grid.interior_plus_boundary, grid.interior_plus_boundary],\n",
    "    [proposal_design],\n",
    "    proposal_op_system,\n",
    "    proposal_fun_args\n",
    ")\n",
    "proposal_cov_inv = np.linalg.inv(proposal_cov)\n",
    "np.linalg.cond(proposal_cov)"
   ]
  },
  {
   "cell_type": "code",
   "execution_count": 50,
   "metadata": {
    "collapsed": true,
    "deletable": true,
    "editable": true
   },
   "outputs": [],
   "source": [
    "# TO DO:\n",
    "# * Swap to simulating only a lower dimensional version of the field\n",
    "proposal_dot_mat = np.dot(proposal_lhs_mat, proposal_cov_inv)"
   ]
  },
  {
   "cell_type": "code",
   "execution_count": 51,
   "metadata": {
    "collapsed": true,
    "deletable": true,
    "editable": true
   },
   "outputs": [],
   "source": [
    "ref_field = field_fun(proposal_design[:,0], proposal_design[:,1], centers, width)"
   ]
  },
  {
   "cell_type": "markdown",
   "metadata": {
    "deletable": true,
    "editable": true
   },
   "source": [
    "# Set Up The Potential"
   ]
  },
  {
   "cell_type": "code",
   "execution_count": 52,
   "metadata": {
    "collapsed": false,
    "deletable": true,
    "editable": true
   },
   "outputs": [],
   "source": [
    "# this is just the length_scale for the initial field\n",
    "fun_args_tmp = np.array([kernel_ls, kernel_variance_mult])\n"
   ]
  },
  {
   "cell_type": "code",
   "execution_count": 53,
   "metadata": {
    "collapsed": false,
    "deletable": true,
    "editable": true
   },
   "outputs": [],
   "source": [
    "# choose an initial field\n",
    "import scipy.optimize\n",
    "def phi_const(k):\n",
    "    theta = k*np.ones(proposal_cov.shape[0])\n",
    "    return eit.pcn_kernel.phi_c(grid, theta, likelihood_variance, pattern, data, fun_args_tmp, proposal_dot_mat)\n"
   ]
  },
  {
   "cell_type": "code",
   "execution_count": 54,
   "metadata": {
    "collapsed": false,
    "deletable": true,
    "editable": true
   },
   "outputs": [],
   "source": [
    "best_const = scipy.optimize.minimize_scalar(phi_const)\n",
    "kappa_0 = best_const.x*np.ones(proposal_cov.shape[0])"
   ]
  },
  {
   "cell_type": "code",
   "execution_count": 55,
   "metadata": {
    "collapsed": true,
    "deletable": true,
    "editable": true
   },
   "outputs": [],
   "source": [
    "def phi_ls(ls, data, kappa):\n",
    "    fa = np.array([ls, kernel_variance_mult])\n",
    "    return eit.pcn_kernel.phi_c(grid, kappa, likelihood_variance, pattern, data, fa, proposal_dot_mat)"
   ]
  },
  {
   "cell_type": "code",
   "execution_count": 56,
   "metadata": {
    "collapsed": false,
    "deletable": true,
    "editable": true,
    "scrolled": true
   },
   "outputs": [
    {
     "name": "stdout",
     "output_type": "stream",
     "text": [
      "0.521259478464\n"
     ]
    }
   ],
   "source": [
    "# now choose the length scale by optimizing marginal likelihood\n",
    "best_ls = scipy.optimize.minimize_scalar(phi_ls, method='bounded', bounds=(0,1), args=(ref_voltages, ref_field))\n",
    "length_scale = best_ls.x\n",
    "print length_scale"
   ]
  },
  {
   "cell_type": "code",
   "execution_count": 57,
   "metadata": {
    "collapsed": true,
    "deletable": true,
    "editable": true
   },
   "outputs": [],
   "source": [
    "#length_scale = 0.3"
   ]
  },
  {
   "cell_type": "code",
   "execution_count": 58,
   "metadata": {
    "collapsed": false,
    "deletable": true,
    "editable": true
   },
   "outputs": [],
   "source": [
    "fun_args = np.array([length_scale, kernel_variance_mult])\n",
    "# construct the proposal\n",
    "beta = 0.05\n",
    "min_accept, max_accept = 0.1, 0.4\n",
    "prior_mean = best_const.x*np.ones(proposal_cov.shape[0])\n",
    "sqrt_proposal_cov = np.real_if_close(linalg.sqrtm(proposal_cov))\n",
    "\n",
    "pcn_kernel = eit.pcn_kernel.PCNKernel_C(beta, prior_mean, sqrt_proposal_cov, grid, likelihood_variance, pattern, data, fun_args, proposal_dot_mat)\n"
   ]
  },
  {
   "cell_type": "code",
   "execution_count": 59,
   "metadata": {
    "collapsed": false,
    "deletable": true,
    "editable": true
   },
   "outputs": [
    {
     "name": "stdout",
     "output_type": "stream",
     "text": [
      "10.9001277569 8.30315836971e-05\n"
     ]
    }
   ],
   "source": [
    "mu, cov = pcn_kernel.get_posterior(kappa_0, grid.sensors)\n",
    "print np.mean(np.diag((cov))), np.std(np.diag(cov))"
   ]
  },
  {
   "cell_type": "code",
   "execution_count": 60,
   "metadata": {
    "collapsed": false,
    "deletable": true,
    "editable": true
   },
   "outputs": [],
   "source": [
    "start = kappa_0.reshape((1, kappa_0.shape[0]), order='F')"
   ]
  },
  {
   "cell_type": "code",
   "execution_count": 61,
   "metadata": {
    "collapsed": true,
    "deletable": true,
    "editable": true
   },
   "outputs": [],
   "source": [
    "def ls_log_prior(ls):\n",
    "    if ls < 0:\n",
    "        return -np.inf\n",
    "    return scipy.stats.halfcauchy.logpdf(ls)"
   ]
  },
  {
   "cell_type": "code",
   "execution_count": 62,
   "metadata": {
    "collapsed": false,
    "deletable": true,
    "editable": true
   },
   "outputs": [
    {
     "name": "stdout",
     "output_type": "stream",
     "text": [
      "0: accept=0.0 beta=0.0375 ls=0.521259478464 accept=0.0\n",
      "100: accept=0.24 beta=0.000158560596947 ls=0.521259478464 accept=0.0\n",
      "200: accept=0.14 beta=0.00011892044771 ls=0.521259478464 accept=0.0\n",
      "300: accept=0.12 beta=8.91903357825e-05 ls=0.521259478464 accept=0.0\n",
      "400: accept=0.25 beta=6.68927518369e-05 ls=0.521259478464 accept=0.0\n",
      "500: accept=0.28 beta=6.68927518369e-05 ls=0.521259478464 accept=0.0\n",
      "600: accept=0.23 beta=6.68927518369e-05 ls=0.521259478464 accept=0.0\n",
      "700: accept=0.24 beta=6.68927518369e-05 ls=0.521259478464 accept=0.0\n",
      "800: accept=0.22 beta=6.68927518369e-05 ls=0.521259478464 accept=0.0\n",
      "900: accept=0.24 beta=6.68927518369e-05 ls=0.521259478464 accept=0.0\n",
      "CPU times: user 1min 17s, sys: 738 ms, total: 1min 18s\n",
      "Wall time: 1min 18s\n"
     ]
    }
   ],
   "source": [
    "%%time\n",
    "beta = 0.05\n",
    "n_repeats = 1000\n",
    "n_iter = 100\n",
    "thin = 100\n",
    "per_repeat = n_iter/thin\n",
    "res = np.empty((per_repeat*n_repeats, kappa_0.shape[0]))\n",
    "\n",
    "cur_length_scale = length_scale\n",
    "pcn_kernel.collocate_args = np.array([cur_length_scale, kernel_variance_mult])\n",
    "length_scales = np.empty(n_repeats)\n",
    "length_scale_proposals = np.empty(n_repeats)\n",
    "accepts = np.zeros(n_repeats, dtype=np.bool)\n",
    "length_scale_proposal_variance = 1e-3\n",
    "cur_ls_log_prior = ls_log_prior(length_scale)\n",
    "\n",
    "for i in xrange(n_repeats):\n",
    "    proposals, acceptances, log_likelihoods = pcn_kernel.apply(start, n_iter, n_threads=8, beta=beta, bayesian=bayesian)\n",
    "    if acceptances.mean() < min_accept:\n",
    "        beta *= 0.75\n",
    "    elif acceptances.mean() > max_accept:\n",
    "        beta /= 0.75\n",
    "    res[per_repeat*i:per_repeat*(i+1)] = proposals[::thin]\n",
    "    start = proposals[-1,:].reshape(start.shape, order='F')\n",
    "    \n",
    "    if adapt_ls:\n",
    "        # propose to change length_scale\n",
    "        new_length_scale = np.random.normal(cur_length_scale, length_scale_proposal_variance)\n",
    "        length_scale_proposals[i] = new_length_scale\n",
    "        new_ls_log_prior = ls_log_prior(new_length_scale)\n",
    "\n",
    "        if np.isneginf(new_ls_log_prior):\n",
    "            accept = False\n",
    "        else:\n",
    "            cur_phi = pcn_kernel.phi(start.ravel())\n",
    "            new_phi = pcn_kernel.phi(start.ravel(), np.array([new_length_scale, kernel_variance_mult]))\n",
    "            accept_prob = np.exp(cur_phi - new_phi + new_ls_log_prior - cur_ls_log_prior)\n",
    "            accept = np.random.uniform() < accept_prob\n",
    "        if accept:\n",
    "            cur_length_scale = new_length_scale\n",
    "            cur_ls_log_prior = new_ls_log_prior\n",
    "            pcn_kernel.collocate_args = np.array([cur_length_scale, kernel_variance_mult])\n",
    "    else:\n",
    "        accept = False\n",
    "    accepts[i] = accept\n",
    "    length_scales[i] = cur_length_scale\n",
    "    if i > 100:\n",
    "        if np.mean(accepts[i-99:i+1]) < min_accept:\n",
    "            length_scale_proposal_variance *= 0.75\n",
    "        elif np.mean(accepts[i-99:i+1]) > max_accept:\n",
    "            length_scale_proposal_variance /= 0.75\n",
    "        \n",
    "    if i % 100 == 0:\n",
    "        print '{}: accept={} beta={} ls={} accept={}'.format(i, acceptances.mean(), beta, cur_length_scale, np.mean(accepts[:i+1]))\n",
    "#print log_likelihoods.mean()"
   ]
  },
  {
   "cell_type": "code",
   "execution_count": 63,
   "metadata": {
    "collapsed": false,
    "deletable": true,
    "editable": true
   },
   "outputs": [
    {
     "data": {
      "text/plain": [
       "[<matplotlib.lines.Line2D at 0x104ee5e90>]"
      ]
     },
     "execution_count": 63,
     "metadata": {},
     "output_type": "execute_result"
    },
    {
     "data": {
      "image/png": "[encoded data removed]",
      "text/plain": [
       "<matplotlib.figure.Figure at 0x10ab299d0>"
      ]
     },
     "metadata": {},
     "output_type": "display_data"
    }
   ],
   "source": [
    "plt.plot(res[500:,0])"
   ]
  },
  {
   "cell_type": "code",
   "execution_count": 64,
   "metadata": {
    "collapsed": false,
    "deletable": true,
    "editable": true,
    "scrolled": true
   },
   "outputs": [
    {
     "data": {
      "image/png": "[encoded data removed]",
      "text/plain": [
       "<matplotlib.figure.Figure at 0x104f219d0>"
      ]
     },
     "metadata": {},
     "output_type": "display_data"
    }
   ],
   "source": [
    "plot_circle(proposal_design[:,0], proposal_design[:,1], np.exp(res[-1,:]))"
   ]
  },
  {
   "cell_type": "code",
   "execution_count": 65,
   "metadata": {
    "collapsed": false,
    "deletable": true,
    "editable": true
   },
   "outputs": [
    {
     "data": {
      "image/png": "[encoded data removed]",
      "text/plain": [
       "<matplotlib.figure.Figure at 0x10b52c6d0>"
      ]
     },
     "metadata": {},
     "output_type": "display_data"
    }
   ],
   "source": [
    "plot_circle(proposal_design[:,0], proposal_design[:,1], np.exp(np.mean(res[500:], axis=0)))"
   ]
  },
  {
   "cell_type": "code",
   "execution_count": 32,
   "metadata": {
    "collapsed": false,
    "deletable": true,
    "editable": true,
    "scrolled": false
   },
   "outputs": [
    {
     "ename": "NameError",
     "evalue": "name 'res' is not defined",
     "output_type": "error",
     "traceback": [
      "\u001b[0;31m---------------------------------------------------------------------------\u001b[0m",
      "\u001b[0;31mNameError\u001b[0m                                 Traceback (most recent call last)",
      "\u001b[0;32m<ipython-input-32-9506cb6e30cc>\u001b[0m in \u001b[0;36m<module>\u001b[0;34m()\u001b[0m\n\u001b[1;32m      2\u001b[0m \u001b[0;32mif\u001b[0m \u001b[0;32mnot\u001b[0m \u001b[0mos\u001b[0m\u001b[0;34m.\u001b[0m\u001b[0mpath\u001b[0m\u001b[0;34m.\u001b[0m\u001b[0mexists\u001b[0m\u001b[0;34m(\u001b[0m\u001b[0mdest\u001b[0m\u001b[0;34m)\u001b[0m\u001b[0;34m:\u001b[0m\u001b[0;34m\u001b[0m\u001b[0m\n\u001b[1;32m      3\u001b[0m     \u001b[0mos\u001b[0m\u001b[0;34m.\u001b[0m\u001b[0mmakedirs\u001b[0m\u001b[0;34m(\u001b[0m\u001b[0mdest\u001b[0m\u001b[0;34m)\u001b[0m\u001b[0;34m\u001b[0m\u001b[0m\n\u001b[0;32m----> 4\u001b[0;31m \u001b[0mnp\u001b[0m\u001b[0;34m.\u001b[0m\u001b[0msave\u001b[0m\u001b[0;34m(\u001b[0m\u001b[0mos\u001b[0m\u001b[0;34m.\u001b[0m\u001b[0mpath\u001b[0m\u001b[0;34m.\u001b[0m\u001b[0mjoin\u001b[0m\u001b[0;34m(\u001b[0m\u001b[0mdest\u001b[0m\u001b[0;34m,\u001b[0m \u001b[0;34m'results.npy'\u001b[0m\u001b[0;34m)\u001b[0m\u001b[0;34m,\u001b[0m \u001b[0mres\u001b[0m\u001b[0;34m)\u001b[0m\u001b[0;34m\u001b[0m\u001b[0m\n\u001b[0m\u001b[1;32m      5\u001b[0m \u001b[0mnp\u001b[0m\u001b[0;34m.\u001b[0m\u001b[0msave\u001b[0m\u001b[0;34m(\u001b[0m\u001b[0mos\u001b[0m\u001b[0;34m.\u001b[0m\u001b[0mpath\u001b[0m\u001b[0;34m.\u001b[0m\u001b[0mjoin\u001b[0m\u001b[0;34m(\u001b[0m\u001b[0mdest\u001b[0m\u001b[0;34m,\u001b[0m \u001b[0;34m'design.npy'\u001b[0m\u001b[0;34m)\u001b[0m\u001b[0;34m,\u001b[0m \u001b[0mgrid\u001b[0m\u001b[0;34m.\u001b[0m\u001b[0minterior_plus_boundary\u001b[0m\u001b[0;34m)\u001b[0m\u001b[0;34m\u001b[0m\u001b[0m\n\u001b[1;32m      6\u001b[0m \u001b[0mnp\u001b[0m\u001b[0;34m.\u001b[0m\u001b[0msave\u001b[0m\u001b[0;34m(\u001b[0m\u001b[0mos\u001b[0m\u001b[0;34m.\u001b[0m\u001b[0mpath\u001b[0m\u001b[0;34m.\u001b[0m\u001b[0mjoin\u001b[0m\u001b[0;34m(\u001b[0m\u001b[0mdest\u001b[0m\u001b[0;34m,\u001b[0m \u001b[0;34m'field_pts.npy'\u001b[0m\u001b[0;34m)\u001b[0m\u001b[0;34m,\u001b[0m \u001b[0mproposal_design\u001b[0m\u001b[0;34m)\u001b[0m\u001b[0;34m\u001b[0m\u001b[0m\n",
      "\u001b[0;31mNameError\u001b[0m: name 'res' is not defined"
     ]
    }
   ],
   "source": [
    "dest = os.path.join('eit_results', design_name)\n",
    "if not os.path.exists(dest):\n",
    "    os.makedirs(dest)\n",
    "np.save(os.path.join(dest, 'results.npy'), res)\n",
    "np.save(os.path.join(dest, 'design.npy'), grid.interior_plus_boundary)\n",
    "np.save(os.path.join(dest, 'field_pts.npy'), proposal_design)\n",
    "np.save(os.path.join(dest, 'length_scales.npy'), length_scales)"
   ]
  }
 ],
 "metadata": {
  "kernelspec": {
   "display_name": "Python 2",
   "language": "python",
   "name": "python2"
  },
  "language_info": {
   "codemirror_mode": {
    "name": "ipython",
    "version": 2
   },
   "file_extension": ".py",
   "mimetype": "text/x-python",
   "name": "python",
   "nbconvert_exporter": "python",
   "pygments_lexer": "ipython2",
   "version": "2.7.13"
  }
 },
 "nbformat": 4,
 "nbformat_minor": 1
}
