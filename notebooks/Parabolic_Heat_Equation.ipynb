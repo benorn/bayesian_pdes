{
 "cells": [
  {
   "cell_type": "code",
   "execution_count": 1,
   "metadata": {
    "collapsed": false
   },
   "outputs": [
    {
     "name": "stderr",
     "output_type": "stream",
     "text": [
      "DEBUG:root:test\n"
     ]
    }
   ],
   "source": [
    "import logging\n",
    "logger = logging.getLogger()\n",
    "logger.setLevel(logging.DEBUG)\n",
    "logging.debug(\"test\")"
   ]
  },
  {
   "cell_type": "code",
   "execution_count": 2,
   "metadata": {
    "collapsed": false
   },
   "outputs": [],
   "source": [
    "%matplotlib inline\n",
    "from autograd import numpy as np\n",
    "import numpy.testing\n",
    "np.testing = numpy.testing\n",
    "import scipy.spatial\n",
    "import bayesian_pdes as bpdes\n",
    "import six\n",
    "import sympy as sp\n",
    "import matplotlib.pyplot as plt\n",
    "import autograd"
   ]
  },
  {
   "cell_type": "markdown",
   "metadata": {},
   "source": [
    "# Forward Problem"
   ]
  },
  {
   "cell_type": "code",
   "execution_count": 3,
   "metadata": {
    "collapsed": false
   },
   "outputs": [],
   "source": [
    "x, y, t, t_bar = sp.symbols('x, y, t, t_bar')\n",
    "l, alpha = sp.symbols('l, alpha')\n",
    "k = sp.exp(-(x - y)**2 / (2*l**2)) * sp.exp(-(t-t_bar)**2 / (2*l**2))\n",
    "\n",
    "def T(k):\n",
    "    return k.diff(t) - alpha * k.diff(x,x)\n",
    "def T_bar(k):\n",
    "    return k.diff(t_bar) - alpha * k.diff(y, y)\n",
    "def B(k):\n",
    "    return k\n",
    "B_bar = B\n",
    "\n",
    "ops = [T, B]\n",
    "ops_bar = [T_bar, B_bar]"
   ]
  },
  {
   "cell_type": "code",
   "execution_count": 4,
   "metadata": {
    "collapsed": true
   },
   "outputs": [],
   "source": [
    "op_system = bpdes.operator_compilation.compile_sympy(ops, ops_bar, k, [[x, t], [y, t_bar], [l, alpha]], mode='cython')"
   ]
  },
  {
   "cell_type": "code",
   "execution_count": 5,
   "metadata": {
    "collapsed": true
   },
   "outputs": [],
   "source": [
    "L = 1."
   ]
  },
  {
   "cell_type": "code",
   "execution_count": 6,
   "metadata": {
    "collapsed": true
   },
   "outputs": [],
   "source": [
    "def g(x):\n",
    "    return np.zeros((x.shape[0], 1))\n",
    "def b(x):\n",
    "    return np.ones((x.shape[0], 1))"
   ]
  },
  {
   "cell_type": "code",
   "execution_count": 7,
   "metadata": {
    "collapsed": true
   },
   "outputs": [],
   "source": [
    "def u_0(x):\n",
    "    return np.zeros_like(x)"
   ]
  },
  {
   "cell_type": "code",
   "execution_count": 8,
   "metadata": {
    "collapsed": true
   },
   "outputs": [],
   "source": [
    "times = np.linspace(0,1,11)\n",
    "x_pts = np.linspace(0,L,11)[:,None]\n",
    "interior = x_pts[1:-1]\n",
    "bdy = x_pts[[0, -1]]\n",
    "\n",
    "fun_args = np.array([0.1, 1.0])\n",
    "\n",
    "test = np.linspace(0,L,51)[:,None]\n",
    "init_points = np.column_stack([x_pts, times[0]*np.ones_like(x_pts)])\n",
    "init_obs = u_0(x_pts)\n",
    "ics = [(init_points, init_obs)]"
   ]
  },
  {
   "cell_type": "code",
   "execution_count": 9,
   "metadata": {
    "collapsed": true
   },
   "outputs": [],
   "source": [
    "def obs_function(t):\n",
    "    interior_t = np.column_stack([interior, t*np.ones_like(interior)])\n",
    "    bdy_t = np.column_stack([bdy, t*np.ones_like(bdy)])\n",
    "    \n",
    "    return [(interior_t, g(interior_t)), (bdy_t, b(bdy_t))]\n",
    "\n",
    "def test_function(t):\n",
    "    test_t = np.column_stack([test, t*np.ones_like(test)])\n",
    "    return test_t"
   ]
  },
  {
   "cell_type": "code",
   "execution_count": 10,
   "metadata": {
    "collapsed": false
   },
   "outputs": [
    {
     "name": "stderr",
     "output_type": "stream",
     "text": [
      "INFO:root:Applying <function T at 0x10ab3d6e0>, <function T_bar at 0x10ab3d398> to points ((11, 2)) and test points ((51, 2))\n",
      "INFO:bayesian_pdes.parabolic:t=0.1\n",
      "INFO:root:Applying (), () to points ((11, 2)) and test points ((51, 2))\n",
      "DEBUG:bayesian_pdes.parabolic:ops has len 1; obs_1 has len 1; ops_bar has len 2; obs_2 has len 2\n",
      "DEBUG:bayesian_pdes.parabolic:Concatenating K_ttm1; shapes are [[(11, 11)]]\n",
      "DEBUG:bayesian_pdes.parabolic:About to call schur; shapes are: last_inv: (11, 11) K_ttm1: (11, 11), K_t: (11, 11); K_t_inv: (11, 11)\n",
      "INFO:root:Applying <function T at 0x10ab3d6e0>, <function T_bar at 0x10ab3d398> to points ((9, 2)) and test points ((51, 2))\n",
      "INFO:root:Applying <function B at 0x10ab3d578>, <function B at 0x10ab3d578> to points ((2, 2)) and test points ((51, 2))\n",
      "INFO:bayesian_pdes.parabolic:t=0.2\n",
      "INFO:root:Applying (), () to points ((11, 2)) and test points ((51, 2))\n",
      "DEBUG:bayesian_pdes.parabolic:ops has len 1; obs_1 has len 1; ops_bar has len 2; obs_2 has len 2\n",
      "INFO:root:Applying <function T at 0x10ab3d6e0>, <function T_bar at 0x10ab3d398> to points ((9, 2)) and test points ((51, 2))\n",
      "INFO:root:Applying <function B at 0x10ab3d578>, <function B at 0x10ab3d578> to points ((2, 2)) and test points ((51, 2))\n",
      "DEBUG:bayesian_pdes.parabolic:ops has len 2; obs_1 has len 2; ops_bar has len 2; obs_2 has len 2\n",
      "DEBUG:bayesian_pdes.parabolic:Concatenating K_ttm1; shapes are [[(11, 11), (11, 11)]]\n",
      "DEBUG:bayesian_pdes.parabolic:About to call schur; shapes are: last_inv: (22, 22) K_ttm1: (22, 11), K_t: (11, 11); K_t_inv: (11, 11)\n",
      "INFO:root:Applying <function T at 0x10ab3d6e0>, <function T_bar at 0x10ab3d398> to points ((9, 2)) and test points ((51, 2))\n",
      "INFO:root:Applying <function B at 0x10ab3d578>, <function B at 0x10ab3d578> to points ((2, 2)) and test points ((51, 2))\n",
      "INFO:bayesian_pdes.parabolic:t=0.3\n",
      "INFO:root:Applying (), () to points ((11, 2)) and test points ((51, 2))\n",
      "DEBUG:bayesian_pdes.parabolic:ops has len 1; obs_1 has len 1; ops_bar has len 2; obs_2 has len 2\n",
      "INFO:root:Applying <function T at 0x10ab3d6e0>, <function T_bar at 0x10ab3d398> to points ((9, 2)) and test points ((51, 2))\n",
      "INFO:root:Applying <function B at 0x10ab3d578>, <function B at 0x10ab3d578> to points ((2, 2)) and test points ((51, 2))\n",
      "DEBUG:bayesian_pdes.parabolic:ops has len 2; obs_1 has len 2; ops_bar has len 2; obs_2 has len 2\n",
      "INFO:root:Applying <function T at 0x10ab3d6e0>, <function T_bar at 0x10ab3d398> to points ((9, 2)) and test points ((51, 2))\n",
      "INFO:root:Applying <function B at 0x10ab3d578>, <function B at 0x10ab3d578> to points ((2, 2)) and test points ((51, 2))\n",
      "DEBUG:bayesian_pdes.parabolic:ops has len 2; obs_1 has len 2; ops_bar has len 2; obs_2 has len 2\n",
      "DEBUG:bayesian_pdes.parabolic:Concatenating K_ttm1; shapes are [[(11, 11), (11, 11), (11, 11)]]\n",
      "DEBUG:bayesian_pdes.parabolic:About to call schur; shapes are: last_inv: (33, 33) K_ttm1: (33, 11), K_t: (11, 11); K_t_inv: (11, 11)\n",
      "INFO:root:Applying <function T at 0x10ab3d6e0>, <function T_bar at 0x10ab3d398> to points ((9, 2)) and test points ((51, 2))\n",
      "INFO:root:Applying <function B at 0x10ab3d578>, <function B at 0x10ab3d578> to points ((2, 2)) and test points ((51, 2))\n",
      "INFO:bayesian_pdes.parabolic:t=0.4\n",
      "INFO:root:Applying (), () to points ((11, 2)) and test points ((51, 2))\n",
      "DEBUG:bayesian_pdes.parabolic:ops has len 1; obs_1 has len 1; ops_bar has len 2; obs_2 has len 2\n",
      "INFO:root:Applying <function T at 0x10ab3d6e0>, <function T_bar at 0x10ab3d398> to points ((9, 2)) and test points ((51, 2))\n",
      "INFO:root:Applying <function B at 0x10ab3d578>, <function B at 0x10ab3d578> to points ((2, 2)) and test points ((51, 2))\n",
      "DEBUG:bayesian_pdes.parabolic:ops has len 2; obs_1 has len 2; ops_bar has len 2; obs_2 has len 2\n",
      "INFO:root:Applying <function T at 0x10ab3d6e0>, <function T_bar at 0x10ab3d398> to points ((9, 2)) and test points ((51, 2))\n",
      "INFO:root:Applying <function B at 0x10ab3d578>, <function B at 0x10ab3d578> to points ((2, 2)) and test points ((51, 2))\n",
      "DEBUG:bayesian_pdes.parabolic:ops has len 2; obs_1 has len 2; ops_bar has len 2; obs_2 has len 2\n",
      "INFO:root:Applying <function T at 0x10ab3d6e0>, <function T_bar at 0x10ab3d398> to points ((9, 2)) and test points ((51, 2))\n",
      "INFO:root:Applying <function B at 0x10ab3d578>, <function B at 0x10ab3d578> to points ((2, 2)) and test points ((51, 2))\n",
      "DEBUG:bayesian_pdes.parabolic:ops has len 2; obs_1 has len 2; ops_bar has len 2; obs_2 has len 2\n",
      "DEBUG:bayesian_pdes.parabolic:Concatenating K_ttm1; shapes are [[(11, 11), (11, 11), (11, 11), (11, 11)]]\n",
      "DEBUG:bayesian_pdes.parabolic:About to call schur; shapes are: last_inv: (44, 44) K_ttm1: (44, 11), K_t: (11, 11); K_t_inv: (11, 11)\n",
      "INFO:root:Applying <function T at 0x10ab3d6e0>, <function T_bar at 0x10ab3d398> to points ((9, 2)) and test points ((51, 2))\n",
      "INFO:root:Applying <function B at 0x10ab3d578>, <function B at 0x10ab3d578> to points ((2, 2)) and test points ((51, 2))\n",
      "INFO:bayesian_pdes.parabolic:t=0.5\n",
      "INFO:root:Applying (), () to points ((11, 2)) and test points ((51, 2))\n",
      "DEBUG:bayesian_pdes.parabolic:ops has len 1; obs_1 has len 1; ops_bar has len 2; obs_2 has len 2\n",
      "INFO:root:Applying <function T at 0x10ab3d6e0>, <function T_bar at 0x10ab3d398> to points ((9, 2)) and test points ((51, 2))\n",
      "INFO:root:Applying <function B at 0x10ab3d578>, <function B at 0x10ab3d578> to points ((2, 2)) and test points ((51, 2))\n",
      "DEBUG:bayesian_pdes.parabolic:ops has len 2; obs_1 has len 2; ops_bar has len 2; obs_2 has len 2\n",
      "INFO:root:Applying <function T at 0x10ab3d6e0>, <function T_bar at 0x10ab3d398> to points ((9, 2)) and test points ((51, 2))\n",
      "INFO:root:Applying <function B at 0x10ab3d578>, <function B at 0x10ab3d578> to points ((2, 2)) and test points ((51, 2))\n",
      "DEBUG:bayesian_pdes.parabolic:ops has len 2; obs_1 has len 2; ops_bar has len 2; obs_2 has len 2\n",
      "INFO:root:Applying <function T at 0x10ab3d6e0>, <function T_bar at 0x10ab3d398> to points ((9, 2)) and test points ((51, 2))\n",
      "INFO:root:Applying <function B at 0x10ab3d578>, <function B at 0x10ab3d578> to points ((2, 2)) and test points ((51, 2))\n",
      "DEBUG:bayesian_pdes.parabolic:ops has len 2; obs_1 has len 2; ops_bar has len 2; obs_2 has len 2\n",
      "INFO:root:Applying <function T at 0x10ab3d6e0>, <function T_bar at 0x10ab3d398> to points ((9, 2)) and test points ((51, 2))\n",
      "INFO:root:Applying <function B at 0x10ab3d578>, <function B at 0x10ab3d578> to points ((2, 2)) and test points ((51, 2))\n",
      "DEBUG:bayesian_pdes.parabolic:ops has len 2; obs_1 has len 2; ops_bar has len 2; obs_2 has len 2\n",
      "DEBUG:bayesian_pdes.parabolic:Concatenating K_ttm1; shapes are [[(11, 11), (11, 11), (11, 11), (11, 11), (11, 11)]]\n",
      "DEBUG:bayesian_pdes.parabolic:About to call schur; shapes are: last_inv: (55, 55) K_ttm1: (55, 11), K_t: (11, 11); K_t_inv: (11, 11)\n",
      "INFO:root:Applying <function T at 0x10ab3d6e0>, <function T_bar at 0x10ab3d398> to points ((9, 2)) and test points ((51, 2))\n",
      "INFO:root:Applying <function B at 0x10ab3d578>, <function B at 0x10ab3d578> to points ((2, 2)) and test points ((51, 2))\n",
      "INFO:bayesian_pdes.parabolic:t=0.6\n",
      "INFO:root:Applying (), () to points ((11, 2)) and test points ((51, 2))\n",
      "DEBUG:bayesian_pdes.parabolic:ops has len 1; obs_1 has len 1; ops_bar has len 2; obs_2 has len 2\n",
      "INFO:root:Applying <function T at 0x10ab3d6e0>, <function T_bar at 0x10ab3d398> to points ((9, 2)) and test points ((51, 2))\n",
      "INFO:root:Applying <function B at 0x10ab3d578>, <function B at 0x10ab3d578> to points ((2, 2)) and test points ((51, 2))\n",
      "DEBUG:bayesian_pdes.parabolic:ops has len 2; obs_1 has len 2; ops_bar has len 2; obs_2 has len 2\n",
      "INFO:root:Applying <function T at 0x10ab3d6e0>, <function T_bar at 0x10ab3d398> to points ((9, 2)) and test points ((51, 2))\n",
      "INFO:root:Applying <function B at 0x10ab3d578>, <function B at 0x10ab3d578> to points ((2, 2)) and test points ((51, 2))\n",
      "DEBUG:bayesian_pdes.parabolic:ops has len 2; obs_1 has len 2; ops_bar has len 2; obs_2 has len 2\n",
      "INFO:root:Applying <function T at 0x10ab3d6e0>, <function T_bar at 0x10ab3d398> to points ((9, 2)) and test points ((51, 2))\n",
      "INFO:root:Applying <function B at 0x10ab3d578>, <function B at 0x10ab3d578> to points ((2, 2)) and test points ((51, 2))\n",
      "DEBUG:bayesian_pdes.parabolic:ops has len 2; obs_1 has len 2; ops_bar has len 2; obs_2 has len 2\n",
      "INFO:root:Applying <function T at 0x10ab3d6e0>, <function T_bar at 0x10ab3d398> to points ((9, 2)) and test points ((51, 2))\n",
      "INFO:root:Applying <function B at 0x10ab3d578>, <function B at 0x10ab3d578> to points ((2, 2)) and test points ((51, 2))\n",
      "DEBUG:bayesian_pdes.parabolic:ops has len 2; obs_1 has len 2; ops_bar has len 2; obs_2 has len 2\n",
      "INFO:root:Applying <function T at 0x10ab3d6e0>, <function T_bar at 0x10ab3d398> to points ((9, 2)) and test points ((51, 2))\n",
      "INFO:root:Applying <function B at 0x10ab3d578>, <function B at 0x10ab3d578> to points ((2, 2)) and test points ((51, 2))\n",
      "DEBUG:bayesian_pdes.parabolic:ops has len 2; obs_1 has len 2; ops_bar has len 2; obs_2 has len 2\n",
      "DEBUG:bayesian_pdes.parabolic:Concatenating K_ttm1; shapes are [[(11, 11), (11, 11), (11, 11), (11, 11), (11, 11), (11, 11)]]\n",
      "DEBUG:bayesian_pdes.parabolic:About to call schur; shapes are: last_inv: (66, 66) K_ttm1: (66, 11), K_t: (11, 11); K_t_inv: (11, 11)\n",
      "INFO:root:Applying <function T at 0x10ab3d6e0>, <function T_bar at 0x10ab3d398> to points ((9, 2)) and test points ((51, 2))\n",
      "INFO:root:Applying <function B at 0x10ab3d578>, <function B at 0x10ab3d578> to points ((2, 2)) and test points ((51, 2))\n",
      "INFO:bayesian_pdes.parabolic:t=0.7\n",
      "INFO:root:Applying (), () to points ((11, 2)) and test points ((51, 2))\n",
      "DEBUG:bayesian_pdes.parabolic:ops has len 1; obs_1 has len 1; ops_bar has len 2; obs_2 has len 2\n",
      "INFO:root:Applying <function T at 0x10ab3d6e0>, <function T_bar at 0x10ab3d398> to points ((9, 2)) and test points ((51, 2))\n",
      "INFO:root:Applying <function B at 0x10ab3d578>, <function B at 0x10ab3d578> to points ((2, 2)) and test points ((51, 2))\n",
      "DEBUG:bayesian_pdes.parabolic:ops has len 2; obs_1 has len 2; ops_bar has len 2; obs_2 has len 2\n",
      "INFO:root:Applying <function T at 0x10ab3d6e0>, <function T_bar at 0x10ab3d398> to points ((9, 2)) and test points ((51, 2))\n",
      "INFO:root:Applying <function B at 0x10ab3d578>, <function B at 0x10ab3d578> to points ((2, 2)) and test points ((51, 2))\n",
      "DEBUG:bayesian_pdes.parabolic:ops has len 2; obs_1 has len 2; ops_bar has len 2; obs_2 has len 2\n",
      "INFO:root:Applying <function T at 0x10ab3d6e0>, <function T_bar at 0x10ab3d398> to points ((9, 2)) and test points ((51, 2))\n",
      "INFO:root:Applying <function B at 0x10ab3d578>, <function B at 0x10ab3d578> to points ((2, 2)) and test points ((51, 2))\n",
      "DEBUG:bayesian_pdes.parabolic:ops has len 2; obs_1 has len 2; ops_bar has len 2; obs_2 has len 2\n",
      "INFO:root:Applying <function T at 0x10ab3d6e0>, <function T_bar at 0x10ab3d398> to points ((9, 2)) and test points ((51, 2))\n",
      "INFO:root:Applying <function B at 0x10ab3d578>, <function B at 0x10ab3d578> to points ((2, 2)) and test points ((51, 2))\n",
      "DEBUG:bayesian_pdes.parabolic:ops has len 2; obs_1 has len 2; ops_bar has len 2; obs_2 has len 2\n",
      "INFO:root:Applying <function T at 0x10ab3d6e0>, <function T_bar at 0x10ab3d398> to points ((9, 2)) and test points ((51, 2))\n",
      "INFO:root:Applying <function B at 0x10ab3d578>, <function B at 0x10ab3d578> to points ((2, 2)) and test points ((51, 2))\n",
      "DEBUG:bayesian_pdes.parabolic:ops has len 2; obs_1 has len 2; ops_bar has len 2; obs_2 has len 2\n",
      "INFO:root:Applying <function T at 0x10ab3d6e0>, <function T_bar at 0x10ab3d398> to points ((9, 2)) and test points ((51, 2))\n",
      "INFO:root:Applying <function B at 0x10ab3d578>, <function B at 0x10ab3d578> to points ((2, 2)) and test points ((51, 2))\n",
      "DEBUG:bayesian_pdes.parabolic:ops has len 2; obs_1 has len 2; ops_bar has len 2; obs_2 has len 2\n",
      "DEBUG:bayesian_pdes.parabolic:Concatenating K_ttm1; shapes are [[(11, 11), (11, 11), (11, 11), (11, 11), (11, 11), (11, 11), (11, 11)]]\n",
      "DEBUG:bayesian_pdes.parabolic:About to call schur; shapes are: last_inv: (77, 77) K_ttm1: (77, 11), K_t: (11, 11); K_t_inv: (11, 11)\n",
      "INFO:root:Applying <function T at 0x10ab3d6e0>, <function T_bar at 0x10ab3d398> to points ((9, 2)) and test points ((51, 2))\n",
      "INFO:root:Applying <function B at 0x10ab3d578>, <function B at 0x10ab3d578> to points ((2, 2)) and test points ((51, 2))\n",
      "INFO:bayesian_pdes.parabolic:t=0.8\n",
      "INFO:root:Applying (), () to points ((11, 2)) and test points ((51, 2))\n",
      "DEBUG:bayesian_pdes.parabolic:ops has len 1; obs_1 has len 1; ops_bar has len 2; obs_2 has len 2\n",
      "INFO:root:Applying <function T at 0x10ab3d6e0>, <function T_bar at 0x10ab3d398> to points ((9, 2)) and test points ((51, 2))\n",
      "INFO:root:Applying <function B at 0x10ab3d578>, <function B at 0x10ab3d578> to points ((2, 2)) and test points ((51, 2))\n",
      "DEBUG:bayesian_pdes.parabolic:ops has len 2; obs_1 has len 2; ops_bar has len 2; obs_2 has len 2\n",
      "INFO:root:Applying <function T at 0x10ab3d6e0>, <function T_bar at 0x10ab3d398> to points ((9, 2)) and test points ((51, 2))\n",
      "INFO:root:Applying <function B at 0x10ab3d578>, <function B at 0x10ab3d578> to points ((2, 2)) and test points ((51, 2))\n",
      "DEBUG:bayesian_pdes.parabolic:ops has len 2; obs_1 has len 2; ops_bar has len 2; obs_2 has len 2\n",
      "INFO:root:Applying <function T at 0x10ab3d6e0>, <function T_bar at 0x10ab3d398> to points ((9, 2)) and test points ((51, 2))\n",
      "INFO:root:Applying <function B at 0x10ab3d578>, <function B at 0x10ab3d578> to points ((2, 2)) and test points ((51, 2))\n",
      "DEBUG:bayesian_pdes.parabolic:ops has len 2; obs_1 has len 2; ops_bar has len 2; obs_2 has len 2\n",
      "INFO:root:Applying <function T at 0x10ab3d6e0>, <function T_bar at 0x10ab3d398> to points ((9, 2)) and test points ((51, 2))\n",
      "INFO:root:Applying <function B at 0x10ab3d578>, <function B at 0x10ab3d578> to points ((2, 2)) and test points ((51, 2))\n",
      "DEBUG:bayesian_pdes.parabolic:ops has len 2; obs_1 has len 2; ops_bar has len 2; obs_2 has len 2\n",
      "INFO:root:Applying <function T at 0x10ab3d6e0>, <function T_bar at 0x10ab3d398> to points ((9, 2)) and test points ((51, 2))\n",
      "INFO:root:Applying <function B at 0x10ab3d578>, <function B at 0x10ab3d578> to points ((2, 2)) and test points ((51, 2))\n",
      "DEBUG:bayesian_pdes.parabolic:ops has len 2; obs_1 has len 2; ops_bar has len 2; obs_2 has len 2\n",
      "INFO:root:Applying <function T at 0x10ab3d6e0>, <function T_bar at 0x10ab3d398> to points ((9, 2)) and test points ((51, 2))\n",
      "INFO:root:Applying <function B at 0x10ab3d578>, <function B at 0x10ab3d578> to points ((2, 2)) and test points ((51, 2))\n",
      "DEBUG:bayesian_pdes.parabolic:ops has len 2; obs_1 has len 2; ops_bar has len 2; obs_2 has len 2\n",
      "INFO:root:Applying <function T at 0x10ab3d6e0>, <function T_bar at 0x10ab3d398> to points ((9, 2)) and test points ((51, 2))\n",
      "INFO:root:Applying <function B at 0x10ab3d578>, <function B at 0x10ab3d578> to points ((2, 2)) and test points ((51, 2))\n",
      "DEBUG:bayesian_pdes.parabolic:ops has len 2; obs_1 has len 2; ops_bar has len 2; obs_2 has len 2\n",
      "DEBUG:bayesian_pdes.parabolic:Concatenating K_ttm1; shapes are [[(11, 11), (11, 11), (11, 11), (11, 11), (11, 11), (11, 11), (11, 11), (11, 11)]]\n",
      "DEBUG:bayesian_pdes.parabolic:About to call schur; shapes are: last_inv: (88, 88) K_ttm1: (88, 11), K_t: (11, 11); K_t_inv: (11, 11)\n",
      "INFO:root:Applying <function T at 0x10ab3d6e0>, <function T_bar at 0x10ab3d398> to points ((9, 2)) and test points ((51, 2))\n",
      "INFO:root:Applying <function B at 0x10ab3d578>, <function B at 0x10ab3d578> to points ((2, 2)) and test points ((51, 2))\n",
      "INFO:bayesian_pdes.parabolic:t=0.9\n",
      "INFO:root:Applying (), () to points ((11, 2)) and test points ((51, 2))\n",
      "DEBUG:bayesian_pdes.parabolic:ops has len 1; obs_1 has len 1; ops_bar has len 2; obs_2 has len 2\n",
      "INFO:root:Applying <function T at 0x10ab3d6e0>, <function T_bar at 0x10ab3d398> to points ((9, 2)) and test points ((51, 2))\n",
      "INFO:root:Applying <function B at 0x10ab3d578>, <function B at 0x10ab3d578> to points ((2, 2)) and test points ((51, 2))\n",
      "DEBUG:bayesian_pdes.parabolic:ops has len 2; obs_1 has len 2; ops_bar has len 2; obs_2 has len 2\n",
      "INFO:root:Applying <function T at 0x10ab3d6e0>, <function T_bar at 0x10ab3d398> to points ((9, 2)) and test points ((51, 2))\n",
      "INFO:root:Applying <function B at 0x10ab3d578>, <function B at 0x10ab3d578> to points ((2, 2)) and test points ((51, 2))\n",
      "DEBUG:bayesian_pdes.parabolic:ops has len 2; obs_1 has len 2; ops_bar has len 2; obs_2 has len 2\n",
      "INFO:root:Applying <function T at 0x10ab3d6e0>, <function T_bar at 0x10ab3d398> to points ((9, 2)) and test points ((51, 2))\n",
      "INFO:root:Applying <function B at 0x10ab3d578>, <function B at 0x10ab3d578> to points ((2, 2)) and test points ((51, 2))\n",
      "DEBUG:bayesian_pdes.parabolic:ops has len 2; obs_1 has len 2; ops_bar has len 2; obs_2 has len 2\n",
      "INFO:root:Applying <function T at 0x10ab3d6e0>, <function T_bar at 0x10ab3d398> to points ((9, 2)) and test points ((51, 2))\n",
      "INFO:root:Applying <function B at 0x10ab3d578>, <function B at 0x10ab3d578> to points ((2, 2)) and test points ((51, 2))\n",
      "DEBUG:bayesian_pdes.parabolic:ops has len 2; obs_1 has len 2; ops_bar has len 2; obs_2 has len 2\n",
      "INFO:root:Applying <function T at 0x10ab3d6e0>, <function T_bar at 0x10ab3d398> to points ((9, 2)) and test points ((51, 2))\n",
      "INFO:root:Applying <function B at 0x10ab3d578>, <function B at 0x10ab3d578> to points ((2, 2)) and test points ((51, 2))\n",
      "DEBUG:bayesian_pdes.parabolic:ops has len 2; obs_1 has len 2; ops_bar has len 2; obs_2 has len 2\n",
      "INFO:root:Applying <function T at 0x10ab3d6e0>, <function T_bar at 0x10ab3d398> to points ((9, 2)) and test points ((51, 2))\n",
      "INFO:root:Applying <function B at 0x10ab3d578>, <function B at 0x10ab3d578> to points ((2, 2)) and test points ((51, 2))\n",
      "DEBUG:bayesian_pdes.parabolic:ops has len 2; obs_1 has len 2; ops_bar has len 2; obs_2 has len 2\n",
      "INFO:root:Applying <function T at 0x10ab3d6e0>, <function T_bar at 0x10ab3d398> to points ((9, 2)) and test points ((51, 2))\n",
      "INFO:root:Applying <function B at 0x10ab3d578>, <function B at 0x10ab3d578> to points ((2, 2)) and test points ((51, 2))\n",
      "DEBUG:bayesian_pdes.parabolic:ops has len 2; obs_1 has len 2; ops_bar has len 2; obs_2 has len 2\n",
      "INFO:root:Applying <function T at 0x10ab3d6e0>, <function T_bar at 0x10ab3d398> to points ((9, 2)) and test points ((51, 2))\n",
      "INFO:root:Applying <function B at 0x10ab3d578>, <function B at 0x10ab3d578> to points ((2, 2)) and test points ((51, 2))\n",
      "DEBUG:bayesian_pdes.parabolic:ops has len 2; obs_1 has len 2; ops_bar has len 2; obs_2 has len 2\n",
      "DEBUG:bayesian_pdes.parabolic:Concatenating K_ttm1; shapes are [[(11, 11), (11, 11), (11, 11), (11, 11), (11, 11), (11, 11), (11, 11), (11, 11), (11, 11)]]\n",
      "DEBUG:bayesian_pdes.parabolic:About to call schur; shapes are: last_inv: (99, 99) K_ttm1: (99, 11), K_t: (11, 11); K_t_inv: (11, 11)\n",
      "INFO:root:Applying <function T at 0x10ab3d6e0>, <function T_bar at 0x10ab3d398> to points ((9, 2)) and test points ((51, 2))\n",
      "INFO:root:Applying <function B at 0x10ab3d578>, <function B at 0x10ab3d578> to points ((2, 2)) and test points ((51, 2))\n",
      "INFO:bayesian_pdes.parabolic:t=1.0\n",
      "INFO:root:Applying (), () to points ((11, 2)) and test points ((51, 2))\n",
      "DEBUG:bayesian_pdes.parabolic:ops has len 1; obs_1 has len 1; ops_bar has len 2; obs_2 has len 2\n",
      "INFO:root:Applying <function T at 0x10ab3d6e0>, <function T_bar at 0x10ab3d398> to points ((9, 2)) and test points ((51, 2))\n",
      "INFO:root:Applying <function B at 0x10ab3d578>, <function B at 0x10ab3d578> to points ((2, 2)) and test points ((51, 2))\n",
      "DEBUG:bayesian_pdes.parabolic:ops has len 2; obs_1 has len 2; ops_bar has len 2; obs_2 has len 2\n",
      "INFO:root:Applying <function T at 0x10ab3d6e0>, <function T_bar at 0x10ab3d398> to points ((9, 2)) and test points ((51, 2))\n",
      "INFO:root:Applying <function B at 0x10ab3d578>, <function B at 0x10ab3d578> to points ((2, 2)) and test points ((51, 2))\n",
      "DEBUG:bayesian_pdes.parabolic:ops has len 2; obs_1 has len 2; ops_bar has len 2; obs_2 has len 2\n",
      "INFO:root:Applying <function T at 0x10ab3d6e0>, <function T_bar at 0x10ab3d398> to points ((9, 2)) and test points ((51, 2))\n",
      "INFO:root:Applying <function B at 0x10ab3d578>, <function B at 0x10ab3d578> to points ((2, 2)) and test points ((51, 2))\n",
      "DEBUG:bayesian_pdes.parabolic:ops has len 2; obs_1 has len 2; ops_bar has len 2; obs_2 has len 2\n",
      "INFO:root:Applying <function T at 0x10ab3d6e0>, <function T_bar at 0x10ab3d398> to points ((9, 2)) and test points ((51, 2))\n",
      "INFO:root:Applying <function B at 0x10ab3d578>, <function B at 0x10ab3d578> to points ((2, 2)) and test points ((51, 2))\n",
      "DEBUG:bayesian_pdes.parabolic:ops has len 2; obs_1 has len 2; ops_bar has len 2; obs_2 has len 2\n",
      "INFO:root:Applying <function T at 0x10ab3d6e0>, <function T_bar at 0x10ab3d398> to points ((9, 2)) and test points ((51, 2))\n",
      "INFO:root:Applying <function B at 0x10ab3d578>, <function B at 0x10ab3d578> to points ((2, 2)) and test points ((51, 2))\n",
      "DEBUG:bayesian_pdes.parabolic:ops has len 2; obs_1 has len 2; ops_bar has len 2; obs_2 has len 2\n",
      "INFO:root:Applying <function T at 0x10ab3d6e0>, <function T_bar at 0x10ab3d398> to points ((9, 2)) and test points ((51, 2))\n",
      "INFO:root:Applying <function B at 0x10ab3d578>, <function B at 0x10ab3d578> to points ((2, 2)) and test points ((51, 2))\n",
      "DEBUG:bayesian_pdes.parabolic:ops has len 2; obs_1 has len 2; ops_bar has len 2; obs_2 has len 2\n",
      "INFO:root:Applying <function T at 0x10ab3d6e0>, <function T_bar at 0x10ab3d398> to points ((9, 2)) and test points ((51, 2))\n",
      "INFO:root:Applying <function B at 0x10ab3d578>, <function B at 0x10ab3d578> to points ((2, 2)) and test points ((51, 2))\n",
      "DEBUG:bayesian_pdes.parabolic:ops has len 2; obs_1 has len 2; ops_bar has len 2; obs_2 has len 2\n",
      "INFO:root:Applying <function T at 0x10ab3d6e0>, <function T_bar at 0x10ab3d398> to points ((9, 2)) and test points ((51, 2))\n",
      "INFO:root:Applying <function B at 0x10ab3d578>, <function B at 0x10ab3d578> to points ((2, 2)) and test points ((51, 2))\n",
      "DEBUG:bayesian_pdes.parabolic:ops has len 2; obs_1 has len 2; ops_bar has len 2; obs_2 has len 2\n",
      "INFO:root:Applying <function T at 0x10ab3d6e0>, <function T_bar at 0x10ab3d398> to points ((9, 2)) and test points ((51, 2))\n",
      "INFO:root:Applying <function B at 0x10ab3d578>, <function B at 0x10ab3d578> to points ((2, 2)) and test points ((51, 2))\n",
      "DEBUG:bayesian_pdes.parabolic:ops has len 2; obs_1 has len 2; ops_bar has len 2; obs_2 has len 2\n",
      "DEBUG:bayesian_pdes.parabolic:Concatenating K_ttm1; shapes are [[(11, 11), (11, 11), (11, 11), (11, 11), (11, 11), (11, 11), (11, 11), (11, 11), (11, 11), (11, 11)]]\n",
      "DEBUG:bayesian_pdes.parabolic:About to call schur; shapes are: last_inv: (110, 110) K_ttm1: (110, 11), K_t: (11, 11); K_t_inv: (11, 11)\n",
      "INFO:root:Applying <function T at 0x10ab3d6e0>, <function T_bar at 0x10ab3d398> to points ((9, 2)) and test points ((51, 2))\n",
      "INFO:root:Applying <function B at 0x10ab3d578>, <function B at 0x10ab3d578> to points ((2, 2)) and test points ((51, 2))\n"
     ]
    }
   ],
   "source": [
    "means, covs = bpdes.parabolic.solve_parabolic(op_system, times, obs_function, test_function, ics, fun_args)"
   ]
  },
  {
   "cell_type": "code",
   "execution_count": 11,
   "metadata": {
    "collapsed": false
   },
   "outputs": [
    {
     "data": {
      "image/png": "[encoded data removed]",
      "text/plain": [
       "<matplotlib.figure.Figure at 0x107edb890>"
      ]
     },
     "metadata": {},
     "output_type": "display_data"
    }
   ],
   "source": [
    "plt.plot(test, np.column_stack(means));"
   ]
  }
 ],
 "metadata": {
  "kernelspec": {
   "display_name": "Python 2",
   "language": "python",
   "name": "python2"
  },
  "language_info": {
   "codemirror_mode": {
    "name": "ipython",
    "version": 2
   },
   "file_extension": ".py",
   "mimetype": "text/x-python",
   "name": "python",
   "nbconvert_exporter": "python",
   "pygments_lexer": "ipython2",
   "version": "2.7.11"
  }
 },
 "nbformat": 4,
 "nbformat_minor": 0
}
